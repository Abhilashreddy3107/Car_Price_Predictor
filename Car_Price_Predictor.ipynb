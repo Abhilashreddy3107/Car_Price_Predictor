{
  "nbformat": 4,
  "nbformat_minor": 0,
  "metadata": {
    "colab": {
      "provenance": []
    },
    "kernelspec": {
      "name": "python3",
      "display_name": "Python 3"
    },
    "language_info": {
      "name": "python"
    }
  },
  "cells": [
    {
      "cell_type": "markdown",
      "source": [],
      "metadata": {
        "id": "jcP-d94lxkHL"
      }
    },
    {
      "cell_type": "code",
      "source": [
        "import numpy as np\n",
        "import pandas as pd\n",
        "import seaborn as sns\n",
        "import matplotlib.pyplot as plt\n",
        "from sklearn import metrics\n",
        "from sklearn.compose import ColumnTransformer\n",
        "from sklearn.compose import make_column_transformer\n",
        "from sklearn.impute import SimpleImputer\n",
        "from sklearn.linear_model import Lasso\n",
        "from sklearn.linear_model import LinearRegression\n",
        "from sklearn.metrics import mean_squared_error\n",
        "from sklearn.metrics import r2_score\n",
        "from sklearn.model_selection import train_test_split\n",
        "from sklearn.pipeline import make_pipeline\n",
        "from sklearn.pipeline import Pipeline\n",
        "from sklearn.preprocessing import OneHotEncoder\n",
        "from sklearn.preprocessing import StandardScaler"
      ],
      "metadata": {
        "id": "K1rc1iDVxmEA"
      },
      "execution_count": null,
      "outputs": []
    },
    {
      "cell_type": "code",
      "source": [
        "!pip install scikit-learn"
      ],
      "metadata": {
        "colab": {
          "base_uri": "https://localhost:8080/"
        },
        "id": "MRhqjjWT3LXb",
        "outputId": "843ffdfb-866c-4d9d-cc95-330ee0216ddf"
      },
      "execution_count": null,
      "outputs": [
        {
          "output_type": "stream",
          "name": "stdout",
          "text": [
            "Requirement already satisfied: scikit-learn in /usr/local/lib/python3.10/dist-packages (1.2.2)\n",
            "Requirement already satisfied: numpy>=1.17.3 in /usr/local/lib/python3.10/dist-packages (from scikit-learn) (1.25.2)\n",
            "Requirement already satisfied: scipy>=1.3.2 in /usr/local/lib/python3.10/dist-packages (from scikit-learn) (1.11.4)\n",
            "Requirement already satisfied: joblib>=1.1.1 in /usr/local/lib/python3.10/dist-packages (from scikit-learn) (1.3.2)\n",
            "Requirement already satisfied: threadpoolctl>=2.0.0 in /usr/local/lib/python3.10/dist-packages (from scikit-learn) (3.4.0)\n"
          ]
        }
      ]
    },
    {
      "cell_type": "markdown",
      "source": [
        "Data collection and Processing\n"
      ],
      "metadata": {
        "id": "yHWn73hWyLsH"
      }
    },
    {
      "cell_type": "code",
      "source": [
        "car = pd.read_csv('/content/Training_Data_Set.csv')"
      ],
      "metadata": {
        "id": "8NMMAzRWyKGP"
      },
      "execution_count": null,
      "outputs": []
    },
    {
      "cell_type": "code",
      "source": [
        "car.head()"
      ],
      "metadata": {
        "colab": {
          "base_uri": "https://localhost:8080/",
          "height": 295
        },
        "id": "uycaDtudyfKW",
        "outputId": "101c3e54-1adb-4926-f8eb-674f45ce46bb"
      },
      "execution_count": null,
      "outputs": [
        {
          "output_type": "execute_result",
          "data": {
            "text/plain": [
              "      Id   Maker    model   Location  Distance       Owner Type  \\\n",
              "0  25001   skoda  octavia  Ahmedabad        NaN          Second   \n",
              "1  25002    fiat    panda  Ahmedabad    27750.0           Third   \n",
              "2  25003     bmw       x1  Hyderabad    46000.0           Third   \n",
              "3  25004  nissan     juke     Mumbai    43949.0           Third   \n",
              "4  25005     bmw       x5     Jaipur    59524.0  Fourth & Above   \n",
              "\n",
              "   manufacture_year  Age of car  engine_displacement  engine_power body_type  \\\n",
              "0              1964          55                 1964         147.0   compact   \n",
              "1              2012           7                 1242          51.0       NaN   \n",
              "2              2014           5                 1995         105.0       NaN   \n",
              "3              2011           8                 1618         140.0       NaN   \n",
              "4              2012           7                 2993         180.0       NaN   \n",
              "\n",
              "   Vroom Audit Rating transmission door_count seat_count fuel_type       Price  \n",
              "0                   8          man       None       None    petrol   543764.25  \n",
              "1                   6          man          4          4    petrol   401819.25  \n",
              "2                   7         auto          4          5    diesel  2392855.50  \n",
              "3                   7          man          4          5    petrol   958606.50  \n",
              "4                   7         auto          4          5    diesel  3085561.50  "
            ],
            "text/html": [
              "\n",
              "  <div id=\"df-861b85c6-fe27-444c-aedc-1bbc98bb74ad\" class=\"colab-df-container\">\n",
              "    <div>\n",
              "<style scoped>\n",
              "    .dataframe tbody tr th:only-of-type {\n",
              "        vertical-align: middle;\n",
              "    }\n",
              "\n",
              "    .dataframe tbody tr th {\n",
              "        vertical-align: top;\n",
              "    }\n",
              "\n",
              "    .dataframe thead th {\n",
              "        text-align: right;\n",
              "    }\n",
              "</style>\n",
              "<table border=\"1\" class=\"dataframe\">\n",
              "  <thead>\n",
              "    <tr style=\"text-align: right;\">\n",
              "      <th></th>\n",
              "      <th>Id</th>\n",
              "      <th>Maker</th>\n",
              "      <th>model</th>\n",
              "      <th>Location</th>\n",
              "      <th>Distance</th>\n",
              "      <th>Owner Type</th>\n",
              "      <th>manufacture_year</th>\n",
              "      <th>Age of car</th>\n",
              "      <th>engine_displacement</th>\n",
              "      <th>engine_power</th>\n",
              "      <th>body_type</th>\n",
              "      <th>Vroom Audit Rating</th>\n",
              "      <th>transmission</th>\n",
              "      <th>door_count</th>\n",
              "      <th>seat_count</th>\n",
              "      <th>fuel_type</th>\n",
              "      <th>Price</th>\n",
              "    </tr>\n",
              "  </thead>\n",
              "  <tbody>\n",
              "    <tr>\n",
              "      <th>0</th>\n",
              "      <td>25001</td>\n",
              "      <td>skoda</td>\n",
              "      <td>octavia</td>\n",
              "      <td>Ahmedabad</td>\n",
              "      <td>NaN</td>\n",
              "      <td>Second</td>\n",
              "      <td>1964</td>\n",
              "      <td>55</td>\n",
              "      <td>1964</td>\n",
              "      <td>147.0</td>\n",
              "      <td>compact</td>\n",
              "      <td>8</td>\n",
              "      <td>man</td>\n",
              "      <td>None</td>\n",
              "      <td>None</td>\n",
              "      <td>petrol</td>\n",
              "      <td>543764.25</td>\n",
              "    </tr>\n",
              "    <tr>\n",
              "      <th>1</th>\n",
              "      <td>25002</td>\n",
              "      <td>fiat</td>\n",
              "      <td>panda</td>\n",
              "      <td>Ahmedabad</td>\n",
              "      <td>27750.0</td>\n",
              "      <td>Third</td>\n",
              "      <td>2012</td>\n",
              "      <td>7</td>\n",
              "      <td>1242</td>\n",
              "      <td>51.0</td>\n",
              "      <td>NaN</td>\n",
              "      <td>6</td>\n",
              "      <td>man</td>\n",
              "      <td>4</td>\n",
              "      <td>4</td>\n",
              "      <td>petrol</td>\n",
              "      <td>401819.25</td>\n",
              "    </tr>\n",
              "    <tr>\n",
              "      <th>2</th>\n",
              "      <td>25003</td>\n",
              "      <td>bmw</td>\n",
              "      <td>x1</td>\n",
              "      <td>Hyderabad</td>\n",
              "      <td>46000.0</td>\n",
              "      <td>Third</td>\n",
              "      <td>2014</td>\n",
              "      <td>5</td>\n",
              "      <td>1995</td>\n",
              "      <td>105.0</td>\n",
              "      <td>NaN</td>\n",
              "      <td>7</td>\n",
              "      <td>auto</td>\n",
              "      <td>4</td>\n",
              "      <td>5</td>\n",
              "      <td>diesel</td>\n",
              "      <td>2392855.50</td>\n",
              "    </tr>\n",
              "    <tr>\n",
              "      <th>3</th>\n",
              "      <td>25004</td>\n",
              "      <td>nissan</td>\n",
              "      <td>juke</td>\n",
              "      <td>Mumbai</td>\n",
              "      <td>43949.0</td>\n",
              "      <td>Third</td>\n",
              "      <td>2011</td>\n",
              "      <td>8</td>\n",
              "      <td>1618</td>\n",
              "      <td>140.0</td>\n",
              "      <td>NaN</td>\n",
              "      <td>7</td>\n",
              "      <td>man</td>\n",
              "      <td>4</td>\n",
              "      <td>5</td>\n",
              "      <td>petrol</td>\n",
              "      <td>958606.50</td>\n",
              "    </tr>\n",
              "    <tr>\n",
              "      <th>4</th>\n",
              "      <td>25005</td>\n",
              "      <td>bmw</td>\n",
              "      <td>x5</td>\n",
              "      <td>Jaipur</td>\n",
              "      <td>59524.0</td>\n",
              "      <td>Fourth &amp; Above</td>\n",
              "      <td>2012</td>\n",
              "      <td>7</td>\n",
              "      <td>2993</td>\n",
              "      <td>180.0</td>\n",
              "      <td>NaN</td>\n",
              "      <td>7</td>\n",
              "      <td>auto</td>\n",
              "      <td>4</td>\n",
              "      <td>5</td>\n",
              "      <td>diesel</td>\n",
              "      <td>3085561.50</td>\n",
              "    </tr>\n",
              "  </tbody>\n",
              "</table>\n",
              "</div>\n",
              "    <div class=\"colab-df-buttons\">\n",
              "\n",
              "  <div class=\"colab-df-container\">\n",
              "    <button class=\"colab-df-convert\" onclick=\"convertToInteractive('df-861b85c6-fe27-444c-aedc-1bbc98bb74ad')\"\n",
              "            title=\"Convert this dataframe to an interactive table.\"\n",
              "            style=\"display:none;\">\n",
              "\n",
              "  <svg xmlns=\"http://www.w3.org/2000/svg\" height=\"24px\" viewBox=\"0 -960 960 960\">\n",
              "    <path d=\"M120-120v-720h720v720H120Zm60-500h600v-160H180v160Zm220 220h160v-160H400v160Zm0 220h160v-160H400v160ZM180-400h160v-160H180v160Zm440 0h160v-160H620v160ZM180-180h160v-160H180v160Zm440 0h160v-160H620v160Z\"/>\n",
              "  </svg>\n",
              "    </button>\n",
              "\n",
              "  <style>\n",
              "    .colab-df-container {\n",
              "      display:flex;\n",
              "      gap: 12px;\n",
              "    }\n",
              "\n",
              "    .colab-df-convert {\n",
              "      background-color: #E8F0FE;\n",
              "      border: none;\n",
              "      border-radius: 50%;\n",
              "      cursor: pointer;\n",
              "      display: none;\n",
              "      fill: #1967D2;\n",
              "      height: 32px;\n",
              "      padding: 0 0 0 0;\n",
              "      width: 32px;\n",
              "    }\n",
              "\n",
              "    .colab-df-convert:hover {\n",
              "      background-color: #E2EBFA;\n",
              "      box-shadow: 0px 1px 2px rgba(60, 64, 67, 0.3), 0px 1px 3px 1px rgba(60, 64, 67, 0.15);\n",
              "      fill: #174EA6;\n",
              "    }\n",
              "\n",
              "    .colab-df-buttons div {\n",
              "      margin-bottom: 4px;\n",
              "    }\n",
              "\n",
              "    [theme=dark] .colab-df-convert {\n",
              "      background-color: #3B4455;\n",
              "      fill: #D2E3FC;\n",
              "    }\n",
              "\n",
              "    [theme=dark] .colab-df-convert:hover {\n",
              "      background-color: #434B5C;\n",
              "      box-shadow: 0px 1px 3px 1px rgba(0, 0, 0, 0.15);\n",
              "      filter: drop-shadow(0px 1px 2px rgba(0, 0, 0, 0.3));\n",
              "      fill: #FFFFFF;\n",
              "    }\n",
              "  </style>\n",
              "\n",
              "    <script>\n",
              "      const buttonEl =\n",
              "        document.querySelector('#df-861b85c6-fe27-444c-aedc-1bbc98bb74ad button.colab-df-convert');\n",
              "      buttonEl.style.display =\n",
              "        google.colab.kernel.accessAllowed ? 'block' : 'none';\n",
              "\n",
              "      async function convertToInteractive(key) {\n",
              "        const element = document.querySelector('#df-861b85c6-fe27-444c-aedc-1bbc98bb74ad');\n",
              "        const dataTable =\n",
              "          await google.colab.kernel.invokeFunction('convertToInteractive',\n",
              "                                                    [key], {});\n",
              "        if (!dataTable) return;\n",
              "\n",
              "        const docLinkHtml = 'Like what you see? Visit the ' +\n",
              "          '<a target=\"_blank\" href=https://colab.research.google.com/notebooks/data_table.ipynb>data table notebook</a>'\n",
              "          + ' to learn more about interactive tables.';\n",
              "        element.innerHTML = '';\n",
              "        dataTable['output_type'] = 'display_data';\n",
              "        await google.colab.output.renderOutput(dataTable, element);\n",
              "        const docLink = document.createElement('div');\n",
              "        docLink.innerHTML = docLinkHtml;\n",
              "        element.appendChild(docLink);\n",
              "      }\n",
              "    </script>\n",
              "  </div>\n",
              "\n",
              "\n",
              "<div id=\"df-ff25a385-cb4f-4cec-8304-c75d6a178af8\">\n",
              "  <button class=\"colab-df-quickchart\" onclick=\"quickchart('df-ff25a385-cb4f-4cec-8304-c75d6a178af8')\"\n",
              "            title=\"Suggest charts\"\n",
              "            style=\"display:none;\">\n",
              "\n",
              "<svg xmlns=\"http://www.w3.org/2000/svg\" height=\"24px\"viewBox=\"0 0 24 24\"\n",
              "     width=\"24px\">\n",
              "    <g>\n",
              "        <path d=\"M19 3H5c-1.1 0-2 .9-2 2v14c0 1.1.9 2 2 2h14c1.1 0 2-.9 2-2V5c0-1.1-.9-2-2-2zM9 17H7v-7h2v7zm4 0h-2V7h2v10zm4 0h-2v-4h2v4z\"/>\n",
              "    </g>\n",
              "</svg>\n",
              "  </button>\n",
              "\n",
              "<style>\n",
              "  .colab-df-quickchart {\n",
              "      --bg-color: #E8F0FE;\n",
              "      --fill-color: #1967D2;\n",
              "      --hover-bg-color: #E2EBFA;\n",
              "      --hover-fill-color: #174EA6;\n",
              "      --disabled-fill-color: #AAA;\n",
              "      --disabled-bg-color: #DDD;\n",
              "  }\n",
              "\n",
              "  [theme=dark] .colab-df-quickchart {\n",
              "      --bg-color: #3B4455;\n",
              "      --fill-color: #D2E3FC;\n",
              "      --hover-bg-color: #434B5C;\n",
              "      --hover-fill-color: #FFFFFF;\n",
              "      --disabled-bg-color: #3B4455;\n",
              "      --disabled-fill-color: #666;\n",
              "  }\n",
              "\n",
              "  .colab-df-quickchart {\n",
              "    background-color: var(--bg-color);\n",
              "    border: none;\n",
              "    border-radius: 50%;\n",
              "    cursor: pointer;\n",
              "    display: none;\n",
              "    fill: var(--fill-color);\n",
              "    height: 32px;\n",
              "    padding: 0;\n",
              "    width: 32px;\n",
              "  }\n",
              "\n",
              "  .colab-df-quickchart:hover {\n",
              "    background-color: var(--hover-bg-color);\n",
              "    box-shadow: 0 1px 2px rgba(60, 64, 67, 0.3), 0 1px 3px 1px rgba(60, 64, 67, 0.15);\n",
              "    fill: var(--button-hover-fill-color);\n",
              "  }\n",
              "\n",
              "  .colab-df-quickchart-complete:disabled,\n",
              "  .colab-df-quickchart-complete:disabled:hover {\n",
              "    background-color: var(--disabled-bg-color);\n",
              "    fill: var(--disabled-fill-color);\n",
              "    box-shadow: none;\n",
              "  }\n",
              "\n",
              "  .colab-df-spinner {\n",
              "    border: 2px solid var(--fill-color);\n",
              "    border-color: transparent;\n",
              "    border-bottom-color: var(--fill-color);\n",
              "    animation:\n",
              "      spin 1s steps(1) infinite;\n",
              "  }\n",
              "\n",
              "  @keyframes spin {\n",
              "    0% {\n",
              "      border-color: transparent;\n",
              "      border-bottom-color: var(--fill-color);\n",
              "      border-left-color: var(--fill-color);\n",
              "    }\n",
              "    20% {\n",
              "      border-color: transparent;\n",
              "      border-left-color: var(--fill-color);\n",
              "      border-top-color: var(--fill-color);\n",
              "    }\n",
              "    30% {\n",
              "      border-color: transparent;\n",
              "      border-left-color: var(--fill-color);\n",
              "      border-top-color: var(--fill-color);\n",
              "      border-right-color: var(--fill-color);\n",
              "    }\n",
              "    40% {\n",
              "      border-color: transparent;\n",
              "      border-right-color: var(--fill-color);\n",
              "      border-top-color: var(--fill-color);\n",
              "    }\n",
              "    60% {\n",
              "      border-color: transparent;\n",
              "      border-right-color: var(--fill-color);\n",
              "    }\n",
              "    80% {\n",
              "      border-color: transparent;\n",
              "      border-right-color: var(--fill-color);\n",
              "      border-bottom-color: var(--fill-color);\n",
              "    }\n",
              "    90% {\n",
              "      border-color: transparent;\n",
              "      border-bottom-color: var(--fill-color);\n",
              "    }\n",
              "  }\n",
              "</style>\n",
              "\n",
              "  <script>\n",
              "    async function quickchart(key) {\n",
              "      const quickchartButtonEl =\n",
              "        document.querySelector('#' + key + ' button');\n",
              "      quickchartButtonEl.disabled = true;  // To prevent multiple clicks.\n",
              "      quickchartButtonEl.classList.add('colab-df-spinner');\n",
              "      try {\n",
              "        const charts = await google.colab.kernel.invokeFunction(\n",
              "            'suggestCharts', [key], {});\n",
              "      } catch (error) {\n",
              "        console.error('Error during call to suggestCharts:', error);\n",
              "      }\n",
              "      quickchartButtonEl.classList.remove('colab-df-spinner');\n",
              "      quickchartButtonEl.classList.add('colab-df-quickchart-complete');\n",
              "    }\n",
              "    (() => {\n",
              "      let quickchartButtonEl =\n",
              "        document.querySelector('#df-ff25a385-cb4f-4cec-8304-c75d6a178af8 button');\n",
              "      quickchartButtonEl.style.display =\n",
              "        google.colab.kernel.accessAllowed ? 'block' : 'none';\n",
              "    })();\n",
              "  </script>\n",
              "</div>\n",
              "\n",
              "    </div>\n",
              "  </div>\n"
            ],
            "application/vnd.google.colaboratory.intrinsic+json": {
              "type": "dataframe",
              "variable_name": "car",
              "summary": "{\n  \"name\": \"car\",\n  \"rows\": 53515,\n  \"fields\": [\n    {\n      \"column\": \"Id\",\n      \"properties\": {\n        \"dtype\": \"number\",\n        \"std\": 15448,\n        \"min\": 25001,\n        \"max\": 78515,\n        \"num_unique_values\": 53515,\n        \"samples\": [\n          35822,\n          73639,\n          30071\n        ],\n        \"semantic_type\": \"\",\n        \"description\": \"\"\n      }\n    },\n    {\n      \"column\": \"Maker\",\n      \"properties\": {\n        \"dtype\": \"category\",\n        \"num_unique_values\": 8,\n        \"samples\": [\n          \"fiat\",\n          \"toyota\",\n          \"skoda\"\n        ],\n        \"semantic_type\": \"\",\n        \"description\": \"\"\n      }\n    },\n    {\n      \"column\": \"model\",\n      \"properties\": {\n        \"dtype\": \"category\",\n        \"num_unique_values\": 23,\n        \"samples\": [\n          \"avensis\",\n          \"aygo\",\n          \"octavia\"\n        ],\n        \"semantic_type\": \"\",\n        \"description\": \"\"\n      }\n    },\n    {\n      \"column\": \"Location\",\n      \"properties\": {\n        \"dtype\": \"category\",\n        \"num_unique_values\": 11,\n        \"samples\": [\n          \"Coimbatore\",\n          \"Ahmedabad\",\n          \"Kolkata\"\n        ],\n        \"semantic_type\": \"\",\n        \"description\": \"\"\n      }\n    },\n    {\n      \"column\": \"Distance \",\n      \"properties\": {\n        \"dtype\": \"number\",\n        \"std\": 275561.71614055627,\n        \"min\": 0.0,\n        \"max\": 9899800.0,\n        \"num_unique_values\": 18676,\n        \"samples\": [\n          5370.0,\n          8967.0,\n          220600.0\n        ],\n        \"semantic_type\": \"\",\n        \"description\": \"\"\n      }\n    },\n    {\n      \"column\": \"Owner Type\",\n      \"properties\": {\n        \"dtype\": \"category\",\n        \"num_unique_values\": 4,\n        \"samples\": [\n          \"Third\",\n          \"First\",\n          \"Second\"\n        ],\n        \"semantic_type\": \"\",\n        \"description\": \"\"\n      }\n    },\n    {\n      \"column\": \"manufacture_year\",\n      \"properties\": {\n        \"dtype\": \"number\",\n        \"std\": 4,\n        \"min\": 1934,\n        \"max\": 2016,\n        \"num_unique_values\": 55,\n        \"samples\": [\n          1971,\n          2009,\n          1988\n        ],\n        \"semantic_type\": \"\",\n        \"description\": \"\"\n      }\n    },\n    {\n      \"column\": \"Age of car\",\n      \"properties\": {\n        \"dtype\": \"number\",\n        \"std\": 4,\n        \"min\": 3,\n        \"max\": 85,\n        \"num_unique_values\": 55,\n        \"samples\": [\n          48,\n          10,\n          31\n        ],\n        \"semantic_type\": \"\",\n        \"description\": \"\"\n      }\n    },\n    {\n      \"column\": \"engine_displacement\",\n      \"properties\": {\n        \"dtype\": \"number\",\n        \"std\": 1496,\n        \"min\": 14,\n        \"max\": 32000,\n        \"num_unique_values\": 555,\n        \"samples\": [\n          1685,\n          69,\n          1582\n        ],\n        \"semantic_type\": \"\",\n        \"description\": \"\"\n      }\n    },\n    {\n      \"column\": \"engine_power\",\n      \"properties\": {\n        \"dtype\": \"number\",\n        \"std\": 45.330622004943564,\n        \"min\": 10.0,\n        \"max\": 896.0,\n        \"num_unique_values\": 199,\n        \"samples\": [\n          184.0,\n          130.0,\n          260.0\n        ],\n        \"semantic_type\": \"\",\n        \"description\": \"\"\n      }\n    },\n    {\n      \"column\": \"body_type\",\n      \"properties\": {\n        \"dtype\": \"category\",\n        \"num_unique_values\": 2,\n        \"samples\": [\n          \"van\",\n          \"compact\"\n        ],\n        \"semantic_type\": \"\",\n        \"description\": \"\"\n      }\n    },\n    {\n      \"column\": \"Vroom Audit Rating\",\n      \"properties\": {\n        \"dtype\": \"number\",\n        \"std\": 1,\n        \"min\": 4,\n        \"max\": 8,\n        \"num_unique_values\": 5,\n        \"samples\": [\n          6,\n          5\n        ],\n        \"semantic_type\": \"\",\n        \"description\": \"\"\n      }\n    },\n    {\n      \"column\": \"transmission\",\n      \"properties\": {\n        \"dtype\": \"category\",\n        \"num_unique_values\": 2,\n        \"samples\": [\n          \"auto\",\n          \"man\"\n        ],\n        \"semantic_type\": \"\",\n        \"description\": \"\"\n      }\n    },\n    {\n      \"column\": \"door_count\",\n      \"properties\": {\n        \"dtype\": \"category\",\n        \"num_unique_values\": 7,\n        \"samples\": [\n          \"None\",\n          \"4\"\n        ],\n        \"semantic_type\": \"\",\n        \"description\": \"\"\n      }\n    },\n    {\n      \"column\": \"seat_count\",\n      \"properties\": {\n        \"dtype\": \"category\",\n        \"num_unique_values\": 10,\n        \"samples\": [\n          \"9\",\n          \"4\"\n        ],\n        \"semantic_type\": \"\",\n        \"description\": \"\"\n      }\n    },\n    {\n      \"column\": \"fuel_type\",\n      \"properties\": {\n        \"dtype\": \"category\",\n        \"num_unique_values\": 2,\n        \"samples\": [\n          \"diesel\",\n          \"petrol\"\n        ],\n        \"semantic_type\": \"\",\n        \"description\": \"\"\n      }\n    },\n    {\n      \"column\": \"Price\",\n      \"properties\": {\n        \"dtype\": \"number\",\n        \"std\": 844156.5307291711,\n        \"min\": 3.0,\n        \"max\": 22120775.25,\n        \"num_unique_values\": 20550,\n        \"samples\": [\n          584872.5,\n          1481319.75\n        ],\n        \"semantic_type\": \"\",\n        \"description\": \"\"\n      }\n    }\n  ]\n}"
            }
          },
          "metadata": {},
          "execution_count": 3
        }
      ]
    },
    {
      "cell_type": "markdown",
      "source": [],
      "metadata": {
        "id": "eMwbhaLjycVO"
      }
    },
    {
      "cell_type": "code",
      "source": [
        "car.shape"
      ],
      "metadata": {
        "colab": {
          "base_uri": "https://localhost:8080/"
        },
        "id": "cFrsFzhMyrEu",
        "outputId": "fcb0ae56-94ac-48a9-daf4-8c728c7a69fb"
      },
      "execution_count": null,
      "outputs": [
        {
          "output_type": "execute_result",
          "data": {
            "text/plain": [
              "(53515, 17)"
            ]
          },
          "metadata": {},
          "execution_count": 4
        }
      ]
    },
    {
      "cell_type": "code",
      "source": [
        "car.info()"
      ],
      "metadata": {
        "colab": {
          "base_uri": "https://localhost:8080/"
        },
        "id": "1EoEKaPVy9RO",
        "outputId": "dc1fae06-e460-42cb-a570-19489c67853f"
      },
      "execution_count": null,
      "outputs": [
        {
          "output_type": "stream",
          "name": "stdout",
          "text": [
            "<class 'pandas.core.frame.DataFrame'>\n",
            "RangeIndex: 53515 entries, 0 to 53514\n",
            "Data columns (total 17 columns):\n",
            " #   Column               Non-Null Count  Dtype  \n",
            "---  ------               --------------  -----  \n",
            " 0   Id                   53515 non-null  int64  \n",
            " 1   Maker                53515 non-null  object \n",
            " 2   model                53515 non-null  object \n",
            " 3   Location             53515 non-null  object \n",
            " 4   Distance             52304 non-null  float64\n",
            " 5   Owner Type           53515 non-null  object \n",
            " 6   manufacture_year     53515 non-null  int64  \n",
            " 7   Age of car           53515 non-null  int64  \n",
            " 8   engine_displacement  53515 non-null  int64  \n",
            " 9   engine_power         52076 non-null  float64\n",
            " 10  body_type            4136 non-null   object \n",
            " 11  Vroom Audit Rating   53515 non-null  int64  \n",
            " 12  transmission         53515 non-null  object \n",
            " 13  door_count           53515 non-null  object \n",
            " 14  seat_count           53515 non-null  object \n",
            " 15  fuel_type            53515 non-null  object \n",
            " 16  Price                53515 non-null  float64\n",
            "dtypes: float64(3), int64(5), object(9)\n",
            "memory usage: 6.9+ MB\n"
          ]
        }
      ]
    },
    {
      "cell_type": "code",
      "source": [
        "print(car.columns)"
      ],
      "metadata": {
        "id": "XFg4n98jzCSx",
        "colab": {
          "base_uri": "https://localhost:8080/"
        },
        "outputId": "417a991a-457a-4221-b565-78f9656b4863"
      },
      "execution_count": null,
      "outputs": [
        {
          "output_type": "stream",
          "name": "stdout",
          "text": [
            "Index(['Id', 'Maker', 'model', 'Location', 'Distance ', 'Owner Type',\n",
            "       'manufacture_year', 'Age of car', 'engine_displacement', 'engine_power',\n",
            "       'body_type', 'Vroom Audit Rating', 'transmission', 'door_count',\n",
            "       'seat_count', 'fuel_type', 'Price'],\n",
            "      dtype='object')\n"
          ]
        }
      ]
    },
    {
      "cell_type": "code",
      "source": [
        "car.describe()"
      ],
      "metadata": {
        "colab": {
          "base_uri": "https://localhost:8080/",
          "height": 300
        },
        "id": "WD00LI7Cbpcc",
        "outputId": "91ab299d-ad1b-44c5-dba1-e8bda47e9284"
      },
      "execution_count": null,
      "outputs": [
        {
          "output_type": "execute_result",
          "data": {
            "text/plain": [
              "                 Id     Distance   manufacture_year    Age of car  \\\n",
              "count  53515.000000  5.230400e+04      53515.000000  53515.000000   \n",
              "mean   51758.000000  9.454626e+04       2010.408110      8.591890   \n",
              "std    15448.594165  2.755617e+05          4.650322      4.650322   \n",
              "min    25001.000000  0.000000e+00       1934.000000      3.000000   \n",
              "25%    38379.500000  1.549000e+04       2008.000000      5.000000   \n",
              "50%    51758.000000  6.552000e+04       2011.000000      8.000000   \n",
              "75%    65136.500000  1.356410e+05       2014.000000     11.000000   \n",
              "max    78515.000000  9.899800e+06       2016.000000     85.000000   \n",
              "\n",
              "       engine_displacement  engine_power  Vroom Audit Rating         Price  \n",
              "count         53515.000000  52076.000000        53515.000000  5.351500e+04  \n",
              "mean           1904.049014    100.448345            5.998374  1.098084e+06  \n",
              "std            1496.564596     45.330622            1.418336  8.441565e+05  \n",
              "min              14.000000     10.000000            4.000000  3.000000e+00  \n",
              "25%            1395.000000     73.000000            5.000000  5.051812e+05  \n",
              "50%            1896.000000     91.000000            6.000000  8.854552e+05  \n",
              "75%            1995.000000    125.000000            7.000000  1.477829e+06  \n",
              "max           32000.000000    896.000000            8.000000  2.212078e+07  "
            ],
            "text/html": [
              "\n",
              "  <div id=\"df-e4bbc1ae-325d-43d7-8795-0e165a83e657\" class=\"colab-df-container\">\n",
              "    <div>\n",
              "<style scoped>\n",
              "    .dataframe tbody tr th:only-of-type {\n",
              "        vertical-align: middle;\n",
              "    }\n",
              "\n",
              "    .dataframe tbody tr th {\n",
              "        vertical-align: top;\n",
              "    }\n",
              "\n",
              "    .dataframe thead th {\n",
              "        text-align: right;\n",
              "    }\n",
              "</style>\n",
              "<table border=\"1\" class=\"dataframe\">\n",
              "  <thead>\n",
              "    <tr style=\"text-align: right;\">\n",
              "      <th></th>\n",
              "      <th>Id</th>\n",
              "      <th>Distance</th>\n",
              "      <th>manufacture_year</th>\n",
              "      <th>Age of car</th>\n",
              "      <th>engine_displacement</th>\n",
              "      <th>engine_power</th>\n",
              "      <th>Vroom Audit Rating</th>\n",
              "      <th>Price</th>\n",
              "    </tr>\n",
              "  </thead>\n",
              "  <tbody>\n",
              "    <tr>\n",
              "      <th>count</th>\n",
              "      <td>53515.000000</td>\n",
              "      <td>5.230400e+04</td>\n",
              "      <td>53515.000000</td>\n",
              "      <td>53515.000000</td>\n",
              "      <td>53515.000000</td>\n",
              "      <td>52076.000000</td>\n",
              "      <td>53515.000000</td>\n",
              "      <td>5.351500e+04</td>\n",
              "    </tr>\n",
              "    <tr>\n",
              "      <th>mean</th>\n",
              "      <td>51758.000000</td>\n",
              "      <td>9.454626e+04</td>\n",
              "      <td>2010.408110</td>\n",
              "      <td>8.591890</td>\n",
              "      <td>1904.049014</td>\n",
              "      <td>100.448345</td>\n",
              "      <td>5.998374</td>\n",
              "      <td>1.098084e+06</td>\n",
              "    </tr>\n",
              "    <tr>\n",
              "      <th>std</th>\n",
              "      <td>15448.594165</td>\n",
              "      <td>2.755617e+05</td>\n",
              "      <td>4.650322</td>\n",
              "      <td>4.650322</td>\n",
              "      <td>1496.564596</td>\n",
              "      <td>45.330622</td>\n",
              "      <td>1.418336</td>\n",
              "      <td>8.441565e+05</td>\n",
              "    </tr>\n",
              "    <tr>\n",
              "      <th>min</th>\n",
              "      <td>25001.000000</td>\n",
              "      <td>0.000000e+00</td>\n",
              "      <td>1934.000000</td>\n",
              "      <td>3.000000</td>\n",
              "      <td>14.000000</td>\n",
              "      <td>10.000000</td>\n",
              "      <td>4.000000</td>\n",
              "      <td>3.000000e+00</td>\n",
              "    </tr>\n",
              "    <tr>\n",
              "      <th>25%</th>\n",
              "      <td>38379.500000</td>\n",
              "      <td>1.549000e+04</td>\n",
              "      <td>2008.000000</td>\n",
              "      <td>5.000000</td>\n",
              "      <td>1395.000000</td>\n",
              "      <td>73.000000</td>\n",
              "      <td>5.000000</td>\n",
              "      <td>5.051812e+05</td>\n",
              "    </tr>\n",
              "    <tr>\n",
              "      <th>50%</th>\n",
              "      <td>51758.000000</td>\n",
              "      <td>6.552000e+04</td>\n",
              "      <td>2011.000000</td>\n",
              "      <td>8.000000</td>\n",
              "      <td>1896.000000</td>\n",
              "      <td>91.000000</td>\n",
              "      <td>6.000000</td>\n",
              "      <td>8.854552e+05</td>\n",
              "    </tr>\n",
              "    <tr>\n",
              "      <th>75%</th>\n",
              "      <td>65136.500000</td>\n",
              "      <td>1.356410e+05</td>\n",
              "      <td>2014.000000</td>\n",
              "      <td>11.000000</td>\n",
              "      <td>1995.000000</td>\n",
              "      <td>125.000000</td>\n",
              "      <td>7.000000</td>\n",
              "      <td>1.477829e+06</td>\n",
              "    </tr>\n",
              "    <tr>\n",
              "      <th>max</th>\n",
              "      <td>78515.000000</td>\n",
              "      <td>9.899800e+06</td>\n",
              "      <td>2016.000000</td>\n",
              "      <td>85.000000</td>\n",
              "      <td>32000.000000</td>\n",
              "      <td>896.000000</td>\n",
              "      <td>8.000000</td>\n",
              "      <td>2.212078e+07</td>\n",
              "    </tr>\n",
              "  </tbody>\n",
              "</table>\n",
              "</div>\n",
              "    <div class=\"colab-df-buttons\">\n",
              "\n",
              "  <div class=\"colab-df-container\">\n",
              "    <button class=\"colab-df-convert\" onclick=\"convertToInteractive('df-e4bbc1ae-325d-43d7-8795-0e165a83e657')\"\n",
              "            title=\"Convert this dataframe to an interactive table.\"\n",
              "            style=\"display:none;\">\n",
              "\n",
              "  <svg xmlns=\"http://www.w3.org/2000/svg\" height=\"24px\" viewBox=\"0 -960 960 960\">\n",
              "    <path d=\"M120-120v-720h720v720H120Zm60-500h600v-160H180v160Zm220 220h160v-160H400v160Zm0 220h160v-160H400v160ZM180-400h160v-160H180v160Zm440 0h160v-160H620v160ZM180-180h160v-160H180v160Zm440 0h160v-160H620v160Z\"/>\n",
              "  </svg>\n",
              "    </button>\n",
              "\n",
              "  <style>\n",
              "    .colab-df-container {\n",
              "      display:flex;\n",
              "      gap: 12px;\n",
              "    }\n",
              "\n",
              "    .colab-df-convert {\n",
              "      background-color: #E8F0FE;\n",
              "      border: none;\n",
              "      border-radius: 50%;\n",
              "      cursor: pointer;\n",
              "      display: none;\n",
              "      fill: #1967D2;\n",
              "      height: 32px;\n",
              "      padding: 0 0 0 0;\n",
              "      width: 32px;\n",
              "    }\n",
              "\n",
              "    .colab-df-convert:hover {\n",
              "      background-color: #E2EBFA;\n",
              "      box-shadow: 0px 1px 2px rgba(60, 64, 67, 0.3), 0px 1px 3px 1px rgba(60, 64, 67, 0.15);\n",
              "      fill: #174EA6;\n",
              "    }\n",
              "\n",
              "    .colab-df-buttons div {\n",
              "      margin-bottom: 4px;\n",
              "    }\n",
              "\n",
              "    [theme=dark] .colab-df-convert {\n",
              "      background-color: #3B4455;\n",
              "      fill: #D2E3FC;\n",
              "    }\n",
              "\n",
              "    [theme=dark] .colab-df-convert:hover {\n",
              "      background-color: #434B5C;\n",
              "      box-shadow: 0px 1px 3px 1px rgba(0, 0, 0, 0.15);\n",
              "      filter: drop-shadow(0px 1px 2px rgba(0, 0, 0, 0.3));\n",
              "      fill: #FFFFFF;\n",
              "    }\n",
              "  </style>\n",
              "\n",
              "    <script>\n",
              "      const buttonEl =\n",
              "        document.querySelector('#df-e4bbc1ae-325d-43d7-8795-0e165a83e657 button.colab-df-convert');\n",
              "      buttonEl.style.display =\n",
              "        google.colab.kernel.accessAllowed ? 'block' : 'none';\n",
              "\n",
              "      async function convertToInteractive(key) {\n",
              "        const element = document.querySelector('#df-e4bbc1ae-325d-43d7-8795-0e165a83e657');\n",
              "        const dataTable =\n",
              "          await google.colab.kernel.invokeFunction('convertToInteractive',\n",
              "                                                    [key], {});\n",
              "        if (!dataTable) return;\n",
              "\n",
              "        const docLinkHtml = 'Like what you see? Visit the ' +\n",
              "          '<a target=\"_blank\" href=https://colab.research.google.com/notebooks/data_table.ipynb>data table notebook</a>'\n",
              "          + ' to learn more about interactive tables.';\n",
              "        element.innerHTML = '';\n",
              "        dataTable['output_type'] = 'display_data';\n",
              "        await google.colab.output.renderOutput(dataTable, element);\n",
              "        const docLink = document.createElement('div');\n",
              "        docLink.innerHTML = docLinkHtml;\n",
              "        element.appendChild(docLink);\n",
              "      }\n",
              "    </script>\n",
              "  </div>\n",
              "\n",
              "\n",
              "<div id=\"df-1c3e3a6c-5196-4ff1-9ca7-4da6aa123052\">\n",
              "  <button class=\"colab-df-quickchart\" onclick=\"quickchart('df-1c3e3a6c-5196-4ff1-9ca7-4da6aa123052')\"\n",
              "            title=\"Suggest charts\"\n",
              "            style=\"display:none;\">\n",
              "\n",
              "<svg xmlns=\"http://www.w3.org/2000/svg\" height=\"24px\"viewBox=\"0 0 24 24\"\n",
              "     width=\"24px\">\n",
              "    <g>\n",
              "        <path d=\"M19 3H5c-1.1 0-2 .9-2 2v14c0 1.1.9 2 2 2h14c1.1 0 2-.9 2-2V5c0-1.1-.9-2-2-2zM9 17H7v-7h2v7zm4 0h-2V7h2v10zm4 0h-2v-4h2v4z\"/>\n",
              "    </g>\n",
              "</svg>\n",
              "  </button>\n",
              "\n",
              "<style>\n",
              "  .colab-df-quickchart {\n",
              "      --bg-color: #E8F0FE;\n",
              "      --fill-color: #1967D2;\n",
              "      --hover-bg-color: #E2EBFA;\n",
              "      --hover-fill-color: #174EA6;\n",
              "      --disabled-fill-color: #AAA;\n",
              "      --disabled-bg-color: #DDD;\n",
              "  }\n",
              "\n",
              "  [theme=dark] .colab-df-quickchart {\n",
              "      --bg-color: #3B4455;\n",
              "      --fill-color: #D2E3FC;\n",
              "      --hover-bg-color: #434B5C;\n",
              "      --hover-fill-color: #FFFFFF;\n",
              "      --disabled-bg-color: #3B4455;\n",
              "      --disabled-fill-color: #666;\n",
              "  }\n",
              "\n",
              "  .colab-df-quickchart {\n",
              "    background-color: var(--bg-color);\n",
              "    border: none;\n",
              "    border-radius: 50%;\n",
              "    cursor: pointer;\n",
              "    display: none;\n",
              "    fill: var(--fill-color);\n",
              "    height: 32px;\n",
              "    padding: 0;\n",
              "    width: 32px;\n",
              "  }\n",
              "\n",
              "  .colab-df-quickchart:hover {\n",
              "    background-color: var(--hover-bg-color);\n",
              "    box-shadow: 0 1px 2px rgba(60, 64, 67, 0.3), 0 1px 3px 1px rgba(60, 64, 67, 0.15);\n",
              "    fill: var(--button-hover-fill-color);\n",
              "  }\n",
              "\n",
              "  .colab-df-quickchart-complete:disabled,\n",
              "  .colab-df-quickchart-complete:disabled:hover {\n",
              "    background-color: var(--disabled-bg-color);\n",
              "    fill: var(--disabled-fill-color);\n",
              "    box-shadow: none;\n",
              "  }\n",
              "\n",
              "  .colab-df-spinner {\n",
              "    border: 2px solid var(--fill-color);\n",
              "    border-color: transparent;\n",
              "    border-bottom-color: var(--fill-color);\n",
              "    animation:\n",
              "      spin 1s steps(1) infinite;\n",
              "  }\n",
              "\n",
              "  @keyframes spin {\n",
              "    0% {\n",
              "      border-color: transparent;\n",
              "      border-bottom-color: var(--fill-color);\n",
              "      border-left-color: var(--fill-color);\n",
              "    }\n",
              "    20% {\n",
              "      border-color: transparent;\n",
              "      border-left-color: var(--fill-color);\n",
              "      border-top-color: var(--fill-color);\n",
              "    }\n",
              "    30% {\n",
              "      border-color: transparent;\n",
              "      border-left-color: var(--fill-color);\n",
              "      border-top-color: var(--fill-color);\n",
              "      border-right-color: var(--fill-color);\n",
              "    }\n",
              "    40% {\n",
              "      border-color: transparent;\n",
              "      border-right-color: var(--fill-color);\n",
              "      border-top-color: var(--fill-color);\n",
              "    }\n",
              "    60% {\n",
              "      border-color: transparent;\n",
              "      border-right-color: var(--fill-color);\n",
              "    }\n",
              "    80% {\n",
              "      border-color: transparent;\n",
              "      border-right-color: var(--fill-color);\n",
              "      border-bottom-color: var(--fill-color);\n",
              "    }\n",
              "    90% {\n",
              "      border-color: transparent;\n",
              "      border-bottom-color: var(--fill-color);\n",
              "    }\n",
              "  }\n",
              "</style>\n",
              "\n",
              "  <script>\n",
              "    async function quickchart(key) {\n",
              "      const quickchartButtonEl =\n",
              "        document.querySelector('#' + key + ' button');\n",
              "      quickchartButtonEl.disabled = true;  // To prevent multiple clicks.\n",
              "      quickchartButtonEl.classList.add('colab-df-spinner');\n",
              "      try {\n",
              "        const charts = await google.colab.kernel.invokeFunction(\n",
              "            'suggestCharts', [key], {});\n",
              "      } catch (error) {\n",
              "        console.error('Error during call to suggestCharts:', error);\n",
              "      }\n",
              "      quickchartButtonEl.classList.remove('colab-df-spinner');\n",
              "      quickchartButtonEl.classList.add('colab-df-quickchart-complete');\n",
              "    }\n",
              "    (() => {\n",
              "      let quickchartButtonEl =\n",
              "        document.querySelector('#df-1c3e3a6c-5196-4ff1-9ca7-4da6aa123052 button');\n",
              "      quickchartButtonEl.style.display =\n",
              "        google.colab.kernel.accessAllowed ? 'block' : 'none';\n",
              "    })();\n",
              "  </script>\n",
              "</div>\n",
              "\n",
              "    </div>\n",
              "  </div>\n"
            ],
            "application/vnd.google.colaboratory.intrinsic+json": {
              "type": "dataframe",
              "summary": "{\n  \"name\": \"car\",\n  \"rows\": 8,\n  \"fields\": [\n    {\n      \"column\": \"Id\",\n      \"properties\": {\n        \"dtype\": \"number\",\n        \"std\": 20570.676181623217,\n        \"min\": 15448.59416473443,\n        \"max\": 78515.0,\n        \"num_unique_values\": 7,\n        \"samples\": [\n          53515.0,\n          51758.0,\n          65136.5\n        ],\n        \"semantic_type\": \"\",\n        \"description\": \"\"\n      }\n    },\n    {\n      \"column\": \"Distance \",\n      \"properties\": {\n        \"dtype\": \"number\",\n        \"std\": 3468905.2654519714,\n        \"min\": 0.0,\n        \"max\": 9899800.0,\n        \"num_unique_values\": 8,\n        \"samples\": [\n          94546.2624464668,\n          65520.0,\n          52304.0\n        ],\n        \"semantic_type\": \"\",\n        \"description\": \"\"\n      }\n    },\n    {\n      \"column\": \"manufacture_year\",\n      \"properties\": {\n        \"dtype\": \"number\",\n        \"std\": 18327.726369984975,\n        \"min\": 4.650322314921363,\n        \"max\": 53515.0,\n        \"num_unique_values\": 8,\n        \"samples\": [\n          2010.4081098757358,\n          2011.0,\n          53515.0\n        ],\n        \"semantic_type\": \"\",\n        \"description\": \"\"\n      }\n    },\n    {\n      \"column\": \"Age of car\",\n      \"properties\": {\n        \"dtype\": \"number\",\n        \"std\": 18914.10402080918,\n        \"min\": 3.0,\n        \"max\": 53515.0,\n        \"num_unique_values\": 8,\n        \"samples\": [\n          8.591890124264225,\n          8.0,\n          53515.0\n        ],\n        \"semantic_type\": \"\",\n        \"description\": \"\"\n      }\n    },\n    {\n      \"column\": \"engine_displacement\",\n      \"properties\": {\n        \"dtype\": \"number\",\n        \"std\": 19977.375289620813,\n        \"min\": 14.0,\n        \"max\": 53515.0,\n        \"num_unique_values\": 8,\n        \"samples\": [\n          1904.0490142950575,\n          1896.0,\n          53515.0\n        ],\n        \"semantic_type\": \"\",\n        \"description\": \"\"\n      }\n    },\n    {\n      \"column\": \"engine_power\",\n      \"properties\": {\n        \"dtype\": \"number\",\n        \"std\": 18346.214235163705,\n        \"min\": 10.0,\n        \"max\": 52076.0,\n        \"num_unique_values\": 8,\n        \"samples\": [\n          100.44834472693755,\n          91.0,\n          52076.0\n        ],\n        \"semantic_type\": \"\",\n        \"description\": \"\"\n      }\n    },\n    {\n      \"column\": \"Vroom Audit Rating\",\n      \"properties\": {\n        \"dtype\": \"number\",\n        \"std\": 18918.519974033494,\n        \"min\": 1.4183358360291882,\n        \"max\": 53515.0,\n        \"num_unique_values\": 8,\n        \"samples\": [\n          5.99837428758292,\n          6.0,\n          53515.0\n        ],\n        \"semantic_type\": \"\",\n        \"description\": \"\"\n      }\n    },\n    {\n      \"column\": \"Price\",\n      \"properties\": {\n        \"dtype\": \"number\",\n        \"std\": 7591813.234314711,\n        \"min\": 3.0,\n        \"max\": 22120775.25,\n        \"num_unique_values\": 8,\n        \"samples\": [\n          1098083.5147809025,\n          885455.25,\n          53515.0\n        ],\n        \"semantic_type\": \"\",\n        \"description\": \"\"\n      }\n    }\n  ]\n}"
            }
          },
          "metadata": {},
          "execution_count": 7
        }
      ]
    },
    {
      "cell_type": "code",
      "source": [
        "car['Distance '].unique()"
      ],
      "metadata": {
        "colab": {
          "base_uri": "https://localhost:8080/"
        },
        "id": "96o5QQwh6QrO",
        "outputId": "a0b2b99b-552e-4d0e-9375-9f73530f5abf"
      },
      "execution_count": null,
      "outputs": [
        {
          "output_type": "execute_result",
          "data": {
            "text/plain": [
              "array([    nan,  27750.,  46000., ...,  94371., 246729., 223631.])"
            ]
          },
          "metadata": {},
          "execution_count": 8
        }
      ]
    },
    {
      "cell_type": "markdown",
      "source": [
        "##Quality\n",
        "- bodytype has nan value\n",
        "- Engine power has nan values\n",
        "- Distance has Nan values"
      ],
      "metadata": {
        "id": "n__FzpP36XXY"
      }
    },
    {
      "cell_type": "code",
      "source": [
        "backup=car.copy"
      ],
      "metadata": {
        "id": "no3traF_6UFX"
      },
      "execution_count": null,
      "outputs": []
    },
    {
      "cell_type": "code",
      "source": [
        "car['engine_power'].astype(str).apply(lambda x: x.split('.')[0])"
      ],
      "metadata": {
        "colab": {
          "base_uri": "https://localhost:8080/"
        },
        "id": "50tlTmtccG-d",
        "outputId": "be981fe4-6898-4692-ad4b-32805d88ec20"
      },
      "execution_count": null,
      "outputs": [
        {
          "output_type": "execute_result",
          "data": {
            "text/plain": [
              "0        147\n",
              "1         51\n",
              "2        105\n",
              "3        140\n",
              "4        180\n",
              "        ... \n",
              "53510     77\n",
              "53511     77\n",
              "53512    105\n",
              "53513     93\n",
              "53514    173\n",
              "Name: engine_power, Length: 53515, dtype: object"
            ]
          },
          "metadata": {},
          "execution_count": 10
        }
      ]
    },
    {
      "cell_type": "code",
      "source": [
        "car['engine_power'].astype(str).str.isnumeric()"
      ],
      "metadata": {
        "colab": {
          "base_uri": "https://localhost:8080/"
        },
        "id": "vjeEIG9DcxTF",
        "outputId": "c757467d-1386-4f20-b2d1-5b5796444dbd"
      },
      "execution_count": null,
      "outputs": [
        {
          "output_type": "execute_result",
          "data": {
            "text/plain": [
              "0        False\n",
              "1        False\n",
              "2        False\n",
              "3        False\n",
              "4        False\n",
              "         ...  \n",
              "53510    False\n",
              "53511    False\n",
              "53512    False\n",
              "53513    False\n",
              "53514    False\n",
              "Name: engine_power, Length: 53515, dtype: bool"
            ]
          },
          "metadata": {},
          "execution_count": 11
        }
      ]
    },
    {
      "cell_type": "code",
      "source": [
        "car['engine_power'].fillna(0, inplace=True)"
      ],
      "metadata": {
        "id": "-GDeaqI_czKf"
      },
      "execution_count": null,
      "outputs": []
    },
    {
      "cell_type": "code",
      "source": [
        "car['engine_power'].astype(int)"
      ],
      "metadata": {
        "colab": {
          "base_uri": "https://localhost:8080/"
        },
        "id": "znmKWEnPc1_v",
        "outputId": "92fe5975-7ac3-4c0c-f9bb-57dccdbcc6bb"
      },
      "execution_count": null,
      "outputs": [
        {
          "output_type": "execute_result",
          "data": {
            "text/plain": [
              "0        147\n",
              "1         51\n",
              "2        105\n",
              "3        140\n",
              "4        180\n",
              "        ... \n",
              "53510     77\n",
              "53511     77\n",
              "53512    105\n",
              "53513     93\n",
              "53514    173\n",
              "Name: engine_power, Length: 53515, dtype: int64"
            ]
          },
          "metadata": {},
          "execution_count": 13
        }
      ]
    },
    {
      "cell_type": "code",
      "source": [
        "car.info()"
      ],
      "metadata": {
        "colab": {
          "base_uri": "https://localhost:8080/"
        },
        "id": "tvo0vBwfc4RP",
        "outputId": "ea9ea696-9a90-4951-ab8c-f9b7919c36b2"
      },
      "execution_count": null,
      "outputs": [
        {
          "output_type": "stream",
          "name": "stdout",
          "text": [
            "<class 'pandas.core.frame.DataFrame'>\n",
            "RangeIndex: 53515 entries, 0 to 53514\n",
            "Data columns (total 17 columns):\n",
            " #   Column               Non-Null Count  Dtype  \n",
            "---  ------               --------------  -----  \n",
            " 0   Id                   53515 non-null  int64  \n",
            " 1   Maker                53515 non-null  object \n",
            " 2   model                53515 non-null  object \n",
            " 3   Location             53515 non-null  object \n",
            " 4   Distance             52304 non-null  float64\n",
            " 5   Owner Type           53515 non-null  object \n",
            " 6   manufacture_year     53515 non-null  int64  \n",
            " 7   Age of car           53515 non-null  int64  \n",
            " 8   engine_displacement  53515 non-null  int64  \n",
            " 9   engine_power         53515 non-null  float64\n",
            " 10  body_type            4136 non-null   object \n",
            " 11  Vroom Audit Rating   53515 non-null  int64  \n",
            " 12  transmission         53515 non-null  object \n",
            " 13  door_count           53515 non-null  object \n",
            " 14  seat_count           53515 non-null  object \n",
            " 15  fuel_type            53515 non-null  object \n",
            " 16  Price                53515 non-null  float64\n",
            "dtypes: float64(3), int64(5), object(9)\n",
            "memory usage: 6.9+ MB\n"
          ]
        }
      ]
    },
    {
      "cell_type": "code",
      "source": [
        "# Calculate the mean value of the 'Distance' column\n",
        "mean_distance = car['Distance '].mean()\n",
        "\n",
        "# Fill missing values with the mean value\n",
        "car['Distance '].fillna(mean_distance, inplace=True)"
      ],
      "metadata": {
        "id": "IZWgQ_pEdejS"
      },
      "execution_count": null,
      "outputs": []
    },
    {
      "cell_type": "code",
      "source": [
        "car['Distance '].astype(int)"
      ],
      "metadata": {
        "colab": {
          "base_uri": "https://localhost:8080/"
        },
        "id": "sAWtGycZdgFV",
        "outputId": "809f58f5-9b9a-40a8-e97a-885447e72840"
      },
      "execution_count": null,
      "outputs": [
        {
          "output_type": "execute_result",
          "data": {
            "text/plain": [
              "0          94546\n",
              "1          27750\n",
              "2          46000\n",
              "3          43949\n",
              "4          59524\n",
              "          ...   \n",
              "53510      29334\n",
              "53511     223631\n",
              "53512      25500\n",
              "53513    1195500\n",
              "53514     142000\n",
              "Name: Distance , Length: 53515, dtype: int64"
            ]
          },
          "metadata": {},
          "execution_count": 16
        }
      ]
    },
    {
      "cell_type": "code",
      "source": [
        "car.info()"
      ],
      "metadata": {
        "colab": {
          "base_uri": "https://localhost:8080/"
        },
        "id": "VEJW3nh0dg6S",
        "outputId": "f74689bb-111e-452a-a1f6-d30f7f492aa9"
      },
      "execution_count": null,
      "outputs": [
        {
          "output_type": "stream",
          "name": "stdout",
          "text": [
            "<class 'pandas.core.frame.DataFrame'>\n",
            "RangeIndex: 53515 entries, 0 to 53514\n",
            "Data columns (total 17 columns):\n",
            " #   Column               Non-Null Count  Dtype  \n",
            "---  ------               --------------  -----  \n",
            " 0   Id                   53515 non-null  int64  \n",
            " 1   Maker                53515 non-null  object \n",
            " 2   model                53515 non-null  object \n",
            " 3   Location             53515 non-null  object \n",
            " 4   Distance             53515 non-null  float64\n",
            " 5   Owner Type           53515 non-null  object \n",
            " 6   manufacture_year     53515 non-null  int64  \n",
            " 7   Age of car           53515 non-null  int64  \n",
            " 8   engine_displacement  53515 non-null  int64  \n",
            " 9   engine_power         53515 non-null  float64\n",
            " 10  body_type            4136 non-null   object \n",
            " 11  Vroom Audit Rating   53515 non-null  int64  \n",
            " 12  transmission         53515 non-null  object \n",
            " 13  door_count           53515 non-null  object \n",
            " 14  seat_count           53515 non-null  object \n",
            " 15  fuel_type            53515 non-null  object \n",
            " 16  Price                53515 non-null  float64\n",
            "dtypes: float64(3), int64(5), object(9)\n",
            "memory usage: 6.9+ MB\n"
          ]
        }
      ]
    },
    {
      "cell_type": "code",
      "source": [
        "car['body_type'].fillna('Ncompact', inplace=True)"
      ],
      "metadata": {
        "id": "VBEGHGAodjoX"
      },
      "execution_count": null,
      "outputs": []
    },
    {
      "cell_type": "code",
      "source": [
        "car.info()"
      ],
      "metadata": {
        "colab": {
          "base_uri": "https://localhost:8080/"
        },
        "id": "ne7FSgGeeUda",
        "outputId": "6592d0f9-ae2a-4e17-f6f4-904f4b058f7a"
      },
      "execution_count": null,
      "outputs": [
        {
          "output_type": "stream",
          "name": "stdout",
          "text": [
            "<class 'pandas.core.frame.DataFrame'>\n",
            "RangeIndex: 53515 entries, 0 to 53514\n",
            "Data columns (total 17 columns):\n",
            " #   Column               Non-Null Count  Dtype  \n",
            "---  ------               --------------  -----  \n",
            " 0   Id                   53515 non-null  int64  \n",
            " 1   Maker                53515 non-null  object \n",
            " 2   model                53515 non-null  object \n",
            " 3   Location             53515 non-null  object \n",
            " 4   Distance             53515 non-null  float64\n",
            " 5   Owner Type           53515 non-null  object \n",
            " 6   manufacture_year     53515 non-null  int64  \n",
            " 7   Age of car           53515 non-null  int64  \n",
            " 8   engine_displacement  53515 non-null  int64  \n",
            " 9   engine_power         53515 non-null  float64\n",
            " 10  body_type            53515 non-null  object \n",
            " 11  Vroom Audit Rating   53515 non-null  int64  \n",
            " 12  transmission         53515 non-null  object \n",
            " 13  door_count           53515 non-null  object \n",
            " 14  seat_count           53515 non-null  object \n",
            " 15  fuel_type            53515 non-null  object \n",
            " 16  Price                53515 non-null  float64\n",
            "dtypes: float64(3), int64(5), object(9)\n",
            "memory usage: 6.9+ MB\n"
          ]
        }
      ]
    },
    {
      "cell_type": "code",
      "source": [
        "car.reset_index(drop=True)"
      ],
      "metadata": {
        "colab": {
          "base_uri": "https://localhost:8080/",
          "height": 582
        },
        "id": "aFzsVOMveY5h",
        "outputId": "9b3d1653-6a6b-454f-a7fa-aef222d21abf"
      },
      "execution_count": null,
      "outputs": [
        {
          "output_type": "execute_result",
          "data": {
            "text/plain": [
              "          Id   Maker    model   Location     Distance       Owner Type  \\\n",
              "0      25001   skoda  octavia  Ahmedabad  9.454626e+04          Second   \n",
              "1      25002    fiat    panda  Ahmedabad  2.775000e+04           Third   \n",
              "2      25003     bmw       x1  Hyderabad  4.600000e+04           Third   \n",
              "3      25004  nissan     juke     Mumbai  4.394900e+04           Third   \n",
              "4      25005     bmw       x5     Jaipur  5.952400e+04  Fourth & Above   \n",
              "...      ...     ...      ...        ...           ...             ...   \n",
              "53510  78511   skoda  octavia      Delhi  2.933400e+04  Fourth & Above   \n",
              "53511  78512   skoda  octavia  Bangalore  2.236310e+05  Fourth & Above   \n",
              "53512  78513     bmw       x1       Pune  2.550000e+04           Third   \n",
              "53513  78514  toyota  avensis     Jaipur  1.195500e+06           Third   \n",
              "53514  78515     bmw       x5      Kochi  1.420000e+05           First   \n",
              "\n",
              "       manufacture_year  Age of car  engine_displacement  engine_power  \\\n",
              "0                  1964          55                 1964         147.0   \n",
              "1                  2012           7                 1242          51.0   \n",
              "2                  2014           5                 1995         105.0   \n",
              "3                  2011           8                 1618         140.0   \n",
              "4                  2012           7                 2993         180.0   \n",
              "...                 ...         ...                  ...           ...   \n",
              "53510              2014           5                 1598          77.0   \n",
              "53511              2009          10                 1900          77.0   \n",
              "53512              2015           4                 1995         105.0   \n",
              "53513              2011           8                11950          93.0   \n",
              "53514              2008          11                 2993         173.0   \n",
              "\n",
              "      body_type  Vroom Audit Rating transmission door_count seat_count  \\\n",
              "0       compact                   8          man       None       None   \n",
              "1      Ncompact                   6          man          4          4   \n",
              "2      Ncompact                   7         auto          4          5   \n",
              "3      Ncompact                   7          man          4          5   \n",
              "4      Ncompact                   7         auto          4          5   \n",
              "...         ...                 ...          ...        ...        ...   \n",
              "53510  Ncompact                   4          man          4          5   \n",
              "53511  Ncompact                   8          man          5          5   \n",
              "53512  Ncompact                   4         auto          4          5   \n",
              "53513   compact                   5          man       None       None   \n",
              "53514  Ncompact                   4         auto          5          5   \n",
              "\n",
              "      fuel_type       Price  \n",
              "0        petrol   543764.25  \n",
              "1        petrol   401819.25  \n",
              "2        diesel  2392855.50  \n",
              "3        petrol   958606.50  \n",
              "4        diesel  3085561.50  \n",
              "...         ...         ...  \n",
              "53510    diesel  1342996.50  \n",
              "53511    diesel   510732.75  \n",
              "53512    diesel  2008123.50  \n",
              "53513    diesel   874352.25  \n",
              "53514    diesel  1576610.25  \n",
              "\n",
              "[53515 rows x 17 columns]"
            ],
            "text/html": [
              "\n",
              "  <div id=\"df-a237666b-415f-4efd-9a82-03777f92e32e\" class=\"colab-df-container\">\n",
              "    <div>\n",
              "<style scoped>\n",
              "    .dataframe tbody tr th:only-of-type {\n",
              "        vertical-align: middle;\n",
              "    }\n",
              "\n",
              "    .dataframe tbody tr th {\n",
              "        vertical-align: top;\n",
              "    }\n",
              "\n",
              "    .dataframe thead th {\n",
              "        text-align: right;\n",
              "    }\n",
              "</style>\n",
              "<table border=\"1\" class=\"dataframe\">\n",
              "  <thead>\n",
              "    <tr style=\"text-align: right;\">\n",
              "      <th></th>\n",
              "      <th>Id</th>\n",
              "      <th>Maker</th>\n",
              "      <th>model</th>\n",
              "      <th>Location</th>\n",
              "      <th>Distance</th>\n",
              "      <th>Owner Type</th>\n",
              "      <th>manufacture_year</th>\n",
              "      <th>Age of car</th>\n",
              "      <th>engine_displacement</th>\n",
              "      <th>engine_power</th>\n",
              "      <th>body_type</th>\n",
              "      <th>Vroom Audit Rating</th>\n",
              "      <th>transmission</th>\n",
              "      <th>door_count</th>\n",
              "      <th>seat_count</th>\n",
              "      <th>fuel_type</th>\n",
              "      <th>Price</th>\n",
              "    </tr>\n",
              "  </thead>\n",
              "  <tbody>\n",
              "    <tr>\n",
              "      <th>0</th>\n",
              "      <td>25001</td>\n",
              "      <td>skoda</td>\n",
              "      <td>octavia</td>\n",
              "      <td>Ahmedabad</td>\n",
              "      <td>9.454626e+04</td>\n",
              "      <td>Second</td>\n",
              "      <td>1964</td>\n",
              "      <td>55</td>\n",
              "      <td>1964</td>\n",
              "      <td>147.0</td>\n",
              "      <td>compact</td>\n",
              "      <td>8</td>\n",
              "      <td>man</td>\n",
              "      <td>None</td>\n",
              "      <td>None</td>\n",
              "      <td>petrol</td>\n",
              "      <td>543764.25</td>\n",
              "    </tr>\n",
              "    <tr>\n",
              "      <th>1</th>\n",
              "      <td>25002</td>\n",
              "      <td>fiat</td>\n",
              "      <td>panda</td>\n",
              "      <td>Ahmedabad</td>\n",
              "      <td>2.775000e+04</td>\n",
              "      <td>Third</td>\n",
              "      <td>2012</td>\n",
              "      <td>7</td>\n",
              "      <td>1242</td>\n",
              "      <td>51.0</td>\n",
              "      <td>Ncompact</td>\n",
              "      <td>6</td>\n",
              "      <td>man</td>\n",
              "      <td>4</td>\n",
              "      <td>4</td>\n",
              "      <td>petrol</td>\n",
              "      <td>401819.25</td>\n",
              "    </tr>\n",
              "    <tr>\n",
              "      <th>2</th>\n",
              "      <td>25003</td>\n",
              "      <td>bmw</td>\n",
              "      <td>x1</td>\n",
              "      <td>Hyderabad</td>\n",
              "      <td>4.600000e+04</td>\n",
              "      <td>Third</td>\n",
              "      <td>2014</td>\n",
              "      <td>5</td>\n",
              "      <td>1995</td>\n",
              "      <td>105.0</td>\n",
              "      <td>Ncompact</td>\n",
              "      <td>7</td>\n",
              "      <td>auto</td>\n",
              "      <td>4</td>\n",
              "      <td>5</td>\n",
              "      <td>diesel</td>\n",
              "      <td>2392855.50</td>\n",
              "    </tr>\n",
              "    <tr>\n",
              "      <th>3</th>\n",
              "      <td>25004</td>\n",
              "      <td>nissan</td>\n",
              "      <td>juke</td>\n",
              "      <td>Mumbai</td>\n",
              "      <td>4.394900e+04</td>\n",
              "      <td>Third</td>\n",
              "      <td>2011</td>\n",
              "      <td>8</td>\n",
              "      <td>1618</td>\n",
              "      <td>140.0</td>\n",
              "      <td>Ncompact</td>\n",
              "      <td>7</td>\n",
              "      <td>man</td>\n",
              "      <td>4</td>\n",
              "      <td>5</td>\n",
              "      <td>petrol</td>\n",
              "      <td>958606.50</td>\n",
              "    </tr>\n",
              "    <tr>\n",
              "      <th>4</th>\n",
              "      <td>25005</td>\n",
              "      <td>bmw</td>\n",
              "      <td>x5</td>\n",
              "      <td>Jaipur</td>\n",
              "      <td>5.952400e+04</td>\n",
              "      <td>Fourth &amp; Above</td>\n",
              "      <td>2012</td>\n",
              "      <td>7</td>\n",
              "      <td>2993</td>\n",
              "      <td>180.0</td>\n",
              "      <td>Ncompact</td>\n",
              "      <td>7</td>\n",
              "      <td>auto</td>\n",
              "      <td>4</td>\n",
              "      <td>5</td>\n",
              "      <td>diesel</td>\n",
              "      <td>3085561.50</td>\n",
              "    </tr>\n",
              "    <tr>\n",
              "      <th>...</th>\n",
              "      <td>...</td>\n",
              "      <td>...</td>\n",
              "      <td>...</td>\n",
              "      <td>...</td>\n",
              "      <td>...</td>\n",
              "      <td>...</td>\n",
              "      <td>...</td>\n",
              "      <td>...</td>\n",
              "      <td>...</td>\n",
              "      <td>...</td>\n",
              "      <td>...</td>\n",
              "      <td>...</td>\n",
              "      <td>...</td>\n",
              "      <td>...</td>\n",
              "      <td>...</td>\n",
              "      <td>...</td>\n",
              "      <td>...</td>\n",
              "    </tr>\n",
              "    <tr>\n",
              "      <th>53510</th>\n",
              "      <td>78511</td>\n",
              "      <td>skoda</td>\n",
              "      <td>octavia</td>\n",
              "      <td>Delhi</td>\n",
              "      <td>2.933400e+04</td>\n",
              "      <td>Fourth &amp; Above</td>\n",
              "      <td>2014</td>\n",
              "      <td>5</td>\n",
              "      <td>1598</td>\n",
              "      <td>77.0</td>\n",
              "      <td>Ncompact</td>\n",
              "      <td>4</td>\n",
              "      <td>man</td>\n",
              "      <td>4</td>\n",
              "      <td>5</td>\n",
              "      <td>diesel</td>\n",
              "      <td>1342996.50</td>\n",
              "    </tr>\n",
              "    <tr>\n",
              "      <th>53511</th>\n",
              "      <td>78512</td>\n",
              "      <td>skoda</td>\n",
              "      <td>octavia</td>\n",
              "      <td>Bangalore</td>\n",
              "      <td>2.236310e+05</td>\n",
              "      <td>Fourth &amp; Above</td>\n",
              "      <td>2009</td>\n",
              "      <td>10</td>\n",
              "      <td>1900</td>\n",
              "      <td>77.0</td>\n",
              "      <td>Ncompact</td>\n",
              "      <td>8</td>\n",
              "      <td>man</td>\n",
              "      <td>5</td>\n",
              "      <td>5</td>\n",
              "      <td>diesel</td>\n",
              "      <td>510732.75</td>\n",
              "    </tr>\n",
              "    <tr>\n",
              "      <th>53512</th>\n",
              "      <td>78513</td>\n",
              "      <td>bmw</td>\n",
              "      <td>x1</td>\n",
              "      <td>Pune</td>\n",
              "      <td>2.550000e+04</td>\n",
              "      <td>Third</td>\n",
              "      <td>2015</td>\n",
              "      <td>4</td>\n",
              "      <td>1995</td>\n",
              "      <td>105.0</td>\n",
              "      <td>Ncompact</td>\n",
              "      <td>4</td>\n",
              "      <td>auto</td>\n",
              "      <td>4</td>\n",
              "      <td>5</td>\n",
              "      <td>diesel</td>\n",
              "      <td>2008123.50</td>\n",
              "    </tr>\n",
              "    <tr>\n",
              "      <th>53513</th>\n",
              "      <td>78514</td>\n",
              "      <td>toyota</td>\n",
              "      <td>avensis</td>\n",
              "      <td>Jaipur</td>\n",
              "      <td>1.195500e+06</td>\n",
              "      <td>Third</td>\n",
              "      <td>2011</td>\n",
              "      <td>8</td>\n",
              "      <td>11950</td>\n",
              "      <td>93.0</td>\n",
              "      <td>compact</td>\n",
              "      <td>5</td>\n",
              "      <td>man</td>\n",
              "      <td>None</td>\n",
              "      <td>None</td>\n",
              "      <td>diesel</td>\n",
              "      <td>874352.25</td>\n",
              "    </tr>\n",
              "    <tr>\n",
              "      <th>53514</th>\n",
              "      <td>78515</td>\n",
              "      <td>bmw</td>\n",
              "      <td>x5</td>\n",
              "      <td>Kochi</td>\n",
              "      <td>1.420000e+05</td>\n",
              "      <td>First</td>\n",
              "      <td>2008</td>\n",
              "      <td>11</td>\n",
              "      <td>2993</td>\n",
              "      <td>173.0</td>\n",
              "      <td>Ncompact</td>\n",
              "      <td>4</td>\n",
              "      <td>auto</td>\n",
              "      <td>5</td>\n",
              "      <td>5</td>\n",
              "      <td>diesel</td>\n",
              "      <td>1576610.25</td>\n",
              "    </tr>\n",
              "  </tbody>\n",
              "</table>\n",
              "<p>53515 rows × 17 columns</p>\n",
              "</div>\n",
              "    <div class=\"colab-df-buttons\">\n",
              "\n",
              "  <div class=\"colab-df-container\">\n",
              "    <button class=\"colab-df-convert\" onclick=\"convertToInteractive('df-a237666b-415f-4efd-9a82-03777f92e32e')\"\n",
              "            title=\"Convert this dataframe to an interactive table.\"\n",
              "            style=\"display:none;\">\n",
              "\n",
              "  <svg xmlns=\"http://www.w3.org/2000/svg\" height=\"24px\" viewBox=\"0 -960 960 960\">\n",
              "    <path d=\"M120-120v-720h720v720H120Zm60-500h600v-160H180v160Zm220 220h160v-160H400v160Zm0 220h160v-160H400v160ZM180-400h160v-160H180v160Zm440 0h160v-160H620v160ZM180-180h160v-160H180v160Zm440 0h160v-160H620v160Z\"/>\n",
              "  </svg>\n",
              "    </button>\n",
              "\n",
              "  <style>\n",
              "    .colab-df-container {\n",
              "      display:flex;\n",
              "      gap: 12px;\n",
              "    }\n",
              "\n",
              "    .colab-df-convert {\n",
              "      background-color: #E8F0FE;\n",
              "      border: none;\n",
              "      border-radius: 50%;\n",
              "      cursor: pointer;\n",
              "      display: none;\n",
              "      fill: #1967D2;\n",
              "      height: 32px;\n",
              "      padding: 0 0 0 0;\n",
              "      width: 32px;\n",
              "    }\n",
              "\n",
              "    .colab-df-convert:hover {\n",
              "      background-color: #E2EBFA;\n",
              "      box-shadow: 0px 1px 2px rgba(60, 64, 67, 0.3), 0px 1px 3px 1px rgba(60, 64, 67, 0.15);\n",
              "      fill: #174EA6;\n",
              "    }\n",
              "\n",
              "    .colab-df-buttons div {\n",
              "      margin-bottom: 4px;\n",
              "    }\n",
              "\n",
              "    [theme=dark] .colab-df-convert {\n",
              "      background-color: #3B4455;\n",
              "      fill: #D2E3FC;\n",
              "    }\n",
              "\n",
              "    [theme=dark] .colab-df-convert:hover {\n",
              "      background-color: #434B5C;\n",
              "      box-shadow: 0px 1px 3px 1px rgba(0, 0, 0, 0.15);\n",
              "      filter: drop-shadow(0px 1px 2px rgba(0, 0, 0, 0.3));\n",
              "      fill: #FFFFFF;\n",
              "    }\n",
              "  </style>\n",
              "\n",
              "    <script>\n",
              "      const buttonEl =\n",
              "        document.querySelector('#df-a237666b-415f-4efd-9a82-03777f92e32e button.colab-df-convert');\n",
              "      buttonEl.style.display =\n",
              "        google.colab.kernel.accessAllowed ? 'block' : 'none';\n",
              "\n",
              "      async function convertToInteractive(key) {\n",
              "        const element = document.querySelector('#df-a237666b-415f-4efd-9a82-03777f92e32e');\n",
              "        const dataTable =\n",
              "          await google.colab.kernel.invokeFunction('convertToInteractive',\n",
              "                                                    [key], {});\n",
              "        if (!dataTable) return;\n",
              "\n",
              "        const docLinkHtml = 'Like what you see? Visit the ' +\n",
              "          '<a target=\"_blank\" href=https://colab.research.google.com/notebooks/data_table.ipynb>data table notebook</a>'\n",
              "          + ' to learn more about interactive tables.';\n",
              "        element.innerHTML = '';\n",
              "        dataTable['output_type'] = 'display_data';\n",
              "        await google.colab.output.renderOutput(dataTable, element);\n",
              "        const docLink = document.createElement('div');\n",
              "        docLink.innerHTML = docLinkHtml;\n",
              "        element.appendChild(docLink);\n",
              "      }\n",
              "    </script>\n",
              "  </div>\n",
              "\n",
              "\n",
              "<div id=\"df-2154d7b8-35b9-4e3e-a910-b5d5c46e0877\">\n",
              "  <button class=\"colab-df-quickchart\" onclick=\"quickchart('df-2154d7b8-35b9-4e3e-a910-b5d5c46e0877')\"\n",
              "            title=\"Suggest charts\"\n",
              "            style=\"display:none;\">\n",
              "\n",
              "<svg xmlns=\"http://www.w3.org/2000/svg\" height=\"24px\"viewBox=\"0 0 24 24\"\n",
              "     width=\"24px\">\n",
              "    <g>\n",
              "        <path d=\"M19 3H5c-1.1 0-2 .9-2 2v14c0 1.1.9 2 2 2h14c1.1 0 2-.9 2-2V5c0-1.1-.9-2-2-2zM9 17H7v-7h2v7zm4 0h-2V7h2v10zm4 0h-2v-4h2v4z\"/>\n",
              "    </g>\n",
              "</svg>\n",
              "  </button>\n",
              "\n",
              "<style>\n",
              "  .colab-df-quickchart {\n",
              "      --bg-color: #E8F0FE;\n",
              "      --fill-color: #1967D2;\n",
              "      --hover-bg-color: #E2EBFA;\n",
              "      --hover-fill-color: #174EA6;\n",
              "      --disabled-fill-color: #AAA;\n",
              "      --disabled-bg-color: #DDD;\n",
              "  }\n",
              "\n",
              "  [theme=dark] .colab-df-quickchart {\n",
              "      --bg-color: #3B4455;\n",
              "      --fill-color: #D2E3FC;\n",
              "      --hover-bg-color: #434B5C;\n",
              "      --hover-fill-color: #FFFFFF;\n",
              "      --disabled-bg-color: #3B4455;\n",
              "      --disabled-fill-color: #666;\n",
              "  }\n",
              "\n",
              "  .colab-df-quickchart {\n",
              "    background-color: var(--bg-color);\n",
              "    border: none;\n",
              "    border-radius: 50%;\n",
              "    cursor: pointer;\n",
              "    display: none;\n",
              "    fill: var(--fill-color);\n",
              "    height: 32px;\n",
              "    padding: 0;\n",
              "    width: 32px;\n",
              "  }\n",
              "\n",
              "  .colab-df-quickchart:hover {\n",
              "    background-color: var(--hover-bg-color);\n",
              "    box-shadow: 0 1px 2px rgba(60, 64, 67, 0.3), 0 1px 3px 1px rgba(60, 64, 67, 0.15);\n",
              "    fill: var(--button-hover-fill-color);\n",
              "  }\n",
              "\n",
              "  .colab-df-quickchart-complete:disabled,\n",
              "  .colab-df-quickchart-complete:disabled:hover {\n",
              "    background-color: var(--disabled-bg-color);\n",
              "    fill: var(--disabled-fill-color);\n",
              "    box-shadow: none;\n",
              "  }\n",
              "\n",
              "  .colab-df-spinner {\n",
              "    border: 2px solid var(--fill-color);\n",
              "    border-color: transparent;\n",
              "    border-bottom-color: var(--fill-color);\n",
              "    animation:\n",
              "      spin 1s steps(1) infinite;\n",
              "  }\n",
              "\n",
              "  @keyframes spin {\n",
              "    0% {\n",
              "      border-color: transparent;\n",
              "      border-bottom-color: var(--fill-color);\n",
              "      border-left-color: var(--fill-color);\n",
              "    }\n",
              "    20% {\n",
              "      border-color: transparent;\n",
              "      border-left-color: var(--fill-color);\n",
              "      border-top-color: var(--fill-color);\n",
              "    }\n",
              "    30% {\n",
              "      border-color: transparent;\n",
              "      border-left-color: var(--fill-color);\n",
              "      border-top-color: var(--fill-color);\n",
              "      border-right-color: var(--fill-color);\n",
              "    }\n",
              "    40% {\n",
              "      border-color: transparent;\n",
              "      border-right-color: var(--fill-color);\n",
              "      border-top-color: var(--fill-color);\n",
              "    }\n",
              "    60% {\n",
              "      border-color: transparent;\n",
              "      border-right-color: var(--fill-color);\n",
              "    }\n",
              "    80% {\n",
              "      border-color: transparent;\n",
              "      border-right-color: var(--fill-color);\n",
              "      border-bottom-color: var(--fill-color);\n",
              "    }\n",
              "    90% {\n",
              "      border-color: transparent;\n",
              "      border-bottom-color: var(--fill-color);\n",
              "    }\n",
              "  }\n",
              "</style>\n",
              "\n",
              "  <script>\n",
              "    async function quickchart(key) {\n",
              "      const quickchartButtonEl =\n",
              "        document.querySelector('#' + key + ' button');\n",
              "      quickchartButtonEl.disabled = true;  // To prevent multiple clicks.\n",
              "      quickchartButtonEl.classList.add('colab-df-spinner');\n",
              "      try {\n",
              "        const charts = await google.colab.kernel.invokeFunction(\n",
              "            'suggestCharts', [key], {});\n",
              "      } catch (error) {\n",
              "        console.error('Error during call to suggestCharts:', error);\n",
              "      }\n",
              "      quickchartButtonEl.classList.remove('colab-df-spinner');\n",
              "      quickchartButtonEl.classList.add('colab-df-quickchart-complete');\n",
              "    }\n",
              "    (() => {\n",
              "      let quickchartButtonEl =\n",
              "        document.querySelector('#df-2154d7b8-35b9-4e3e-a910-b5d5c46e0877 button');\n",
              "      quickchartButtonEl.style.display =\n",
              "        google.colab.kernel.accessAllowed ? 'block' : 'none';\n",
              "    })();\n",
              "  </script>\n",
              "</div>\n",
              "\n",
              "    </div>\n",
              "  </div>\n"
            ],
            "application/vnd.google.colaboratory.intrinsic+json": {
              "type": "dataframe",
              "summary": "{\n  \"name\": \"car\",\n  \"rows\": 53515,\n  \"fields\": [\n    {\n      \"column\": \"Id\",\n      \"properties\": {\n        \"dtype\": \"number\",\n        \"std\": 15448,\n        \"min\": 25001,\n        \"max\": 78515,\n        \"num_unique_values\": 53515,\n        \"samples\": [\n          35822,\n          73639,\n          30071\n        ],\n        \"semantic_type\": \"\",\n        \"description\": \"\"\n      }\n    },\n    {\n      \"column\": \"Maker\",\n      \"properties\": {\n        \"dtype\": \"category\",\n        \"num_unique_values\": 8,\n        \"samples\": [\n          \"fiat\",\n          \"toyota\",\n          \"skoda\"\n        ],\n        \"semantic_type\": \"\",\n        \"description\": \"\"\n      }\n    },\n    {\n      \"column\": \"model\",\n      \"properties\": {\n        \"dtype\": \"category\",\n        \"num_unique_values\": 23,\n        \"samples\": [\n          \"avensis\",\n          \"aygo\",\n          \"octavia\"\n        ],\n        \"semantic_type\": \"\",\n        \"description\": \"\"\n      }\n    },\n    {\n      \"column\": \"Location\",\n      \"properties\": {\n        \"dtype\": \"category\",\n        \"num_unique_values\": 11,\n        \"samples\": [\n          \"Coimbatore\",\n          \"Ahmedabad\",\n          \"Kolkata\"\n        ],\n        \"semantic_type\": \"\",\n        \"description\": \"\"\n      }\n    },\n    {\n      \"column\": \"Distance \",\n      \"properties\": {\n        \"dtype\": \"number\",\n        \"std\": 272425.94970702566,\n        \"min\": 0.0,\n        \"max\": 9899800.0,\n        \"num_unique_values\": 18677,\n        \"samples\": [\n          103200.0,\n          24060.0,\n          249117.0\n        ],\n        \"semantic_type\": \"\",\n        \"description\": \"\"\n      }\n    },\n    {\n      \"column\": \"Owner Type\",\n      \"properties\": {\n        \"dtype\": \"category\",\n        \"num_unique_values\": 4,\n        \"samples\": [\n          \"Third\",\n          \"First\",\n          \"Second\"\n        ],\n        \"semantic_type\": \"\",\n        \"description\": \"\"\n      }\n    },\n    {\n      \"column\": \"manufacture_year\",\n      \"properties\": {\n        \"dtype\": \"number\",\n        \"std\": 4,\n        \"min\": 1934,\n        \"max\": 2016,\n        \"num_unique_values\": 55,\n        \"samples\": [\n          1971,\n          2009,\n          1988\n        ],\n        \"semantic_type\": \"\",\n        \"description\": \"\"\n      }\n    },\n    {\n      \"column\": \"Age of car\",\n      \"properties\": {\n        \"dtype\": \"number\",\n        \"std\": 4,\n        \"min\": 3,\n        \"max\": 85,\n        \"num_unique_values\": 55,\n        \"samples\": [\n          48,\n          10,\n          31\n        ],\n        \"semantic_type\": \"\",\n        \"description\": \"\"\n      }\n    },\n    {\n      \"column\": \"engine_displacement\",\n      \"properties\": {\n        \"dtype\": \"number\",\n        \"std\": 1496,\n        \"min\": 14,\n        \"max\": 32000,\n        \"num_unique_values\": 555,\n        \"samples\": [\n          1685,\n          69,\n          1582\n        ],\n        \"semantic_type\": \"\",\n        \"description\": \"\"\n      }\n    },\n    {\n      \"column\": \"engine_power\",\n      \"properties\": {\n        \"dtype\": \"number\",\n        \"std\": 47.577643861260874,\n        \"min\": 0.0,\n        \"max\": 896.0,\n        \"num_unique_values\": 200,\n        \"samples\": [\n          170.0,\n          130.0,\n          55.0\n        ],\n        \"semantic_type\": \"\",\n        \"description\": \"\"\n      }\n    },\n    {\n      \"column\": \"body_type\",\n      \"properties\": {\n        \"dtype\": \"category\",\n        \"num_unique_values\": 3,\n        \"samples\": [\n          \"compact\",\n          \"Ncompact\",\n          \"van\"\n        ],\n        \"semantic_type\": \"\",\n        \"description\": \"\"\n      }\n    },\n    {\n      \"column\": \"Vroom Audit Rating\",\n      \"properties\": {\n        \"dtype\": \"number\",\n        \"std\": 1,\n        \"min\": 4,\n        \"max\": 8,\n        \"num_unique_values\": 5,\n        \"samples\": [\n          6,\n          5,\n          7\n        ],\n        \"semantic_type\": \"\",\n        \"description\": \"\"\n      }\n    },\n    {\n      \"column\": \"transmission\",\n      \"properties\": {\n        \"dtype\": \"category\",\n        \"num_unique_values\": 2,\n        \"samples\": [\n          \"auto\",\n          \"man\"\n        ],\n        \"semantic_type\": \"\",\n        \"description\": \"\"\n      }\n    },\n    {\n      \"column\": \"door_count\",\n      \"properties\": {\n        \"dtype\": \"category\",\n        \"num_unique_values\": 7,\n        \"samples\": [\n          \"None\",\n          \"4\"\n        ],\n        \"semantic_type\": \"\",\n        \"description\": \"\"\n      }\n    },\n    {\n      \"column\": \"seat_count\",\n      \"properties\": {\n        \"dtype\": \"category\",\n        \"num_unique_values\": 10,\n        \"samples\": [\n          \"9\",\n          \"4\"\n        ],\n        \"semantic_type\": \"\",\n        \"description\": \"\"\n      }\n    },\n    {\n      \"column\": \"fuel_type\",\n      \"properties\": {\n        \"dtype\": \"category\",\n        \"num_unique_values\": 2,\n        \"samples\": [\n          \"diesel\",\n          \"petrol\"\n        ],\n        \"semantic_type\": \"\",\n        \"description\": \"\"\n      }\n    },\n    {\n      \"column\": \"Price\",\n      \"properties\": {\n        \"dtype\": \"number\",\n        \"std\": 844156.5307291711,\n        \"min\": 3.0,\n        \"max\": 22120775.25,\n        \"num_unique_values\": 20550,\n        \"samples\": [\n          584872.5,\n          1481319.75\n        ],\n        \"semantic_type\": \"\",\n        \"description\": \"\"\n      }\n    }\n  ]\n}"
            }
          },
          "metadata": {},
          "execution_count": 20
        }
      ]
    },
    {
      "cell_type": "code",
      "source": [
        "car.to_csv('File 02 car.csv')"
      ],
      "metadata": {
        "id": "aT2h_xdTf-mZ"
      },
      "execution_count": null,
      "outputs": []
    },
    {
      "cell_type": "markdown",
      "source": [
        "MODEL"
      ],
      "metadata": {
        "id": "uJWDRQYjgZXf"
      }
    },
    {
      "cell_type": "code",
      "source": [
        "x= car.drop(columns='Price')\n",
        "y= car['Price']"
      ],
      "metadata": {
        "id": "cXTjVYlzgjQK"
      },
      "execution_count": null,
      "outputs": []
    },
    {
      "cell_type": "code",
      "source": [
        "x_train, x_test,y_train, y_test=train_test_split(x,y, test_size=0.2)"
      ],
      "metadata": {
        "id": "SVKSTF_L1J3C"
      },
      "execution_count": null,
      "outputs": []
    },
    {
      "cell_type": "code",
      "source": [
        "ohe = OneHotEncoder()\n",
        "ohe.fit(x[['model','Maker', 'fuel_type']])"
      ],
      "metadata": {
        "colab": {
          "base_uri": "https://localhost:8080/",
          "height": 74
        },
        "id": "DlUIdbpdgwrn",
        "outputId": "031ffe43-b5b9-47f3-b61c-b82d3b115475"
      },
      "execution_count": null,
      "outputs": [
        {
          "output_type": "execute_result",
          "data": {
            "text/plain": [
              "OneHotEncoder()"
            ],
            "text/html": [
              "<style>#sk-container-id-3 {color: black;background-color: white;}#sk-container-id-3 pre{padding: 0;}#sk-container-id-3 div.sk-toggleable {background-color: white;}#sk-container-id-3 label.sk-toggleable__label {cursor: pointer;display: block;width: 100%;margin-bottom: 0;padding: 0.3em;box-sizing: border-box;text-align: center;}#sk-container-id-3 label.sk-toggleable__label-arrow:before {content: \"▸\";float: left;margin-right: 0.25em;color: #696969;}#sk-container-id-3 label.sk-toggleable__label-arrow:hover:before {color: black;}#sk-container-id-3 div.sk-estimator:hover label.sk-toggleable__label-arrow:before {color: black;}#sk-container-id-3 div.sk-toggleable__content {max-height: 0;max-width: 0;overflow: hidden;text-align: left;background-color: #f0f8ff;}#sk-container-id-3 div.sk-toggleable__content pre {margin: 0.2em;color: black;border-radius: 0.25em;background-color: #f0f8ff;}#sk-container-id-3 input.sk-toggleable__control:checked~div.sk-toggleable__content {max-height: 200px;max-width: 100%;overflow: auto;}#sk-container-id-3 input.sk-toggleable__control:checked~label.sk-toggleable__label-arrow:before {content: \"▾\";}#sk-container-id-3 div.sk-estimator input.sk-toggleable__control:checked~label.sk-toggleable__label {background-color: #d4ebff;}#sk-container-id-3 div.sk-label input.sk-toggleable__control:checked~label.sk-toggleable__label {background-color: #d4ebff;}#sk-container-id-3 input.sk-hidden--visually {border: 0;clip: rect(1px 1px 1px 1px);clip: rect(1px, 1px, 1px, 1px);height: 1px;margin: -1px;overflow: hidden;padding: 0;position: absolute;width: 1px;}#sk-container-id-3 div.sk-estimator {font-family: monospace;background-color: #f0f8ff;border: 1px dotted black;border-radius: 0.25em;box-sizing: border-box;margin-bottom: 0.5em;}#sk-container-id-3 div.sk-estimator:hover {background-color: #d4ebff;}#sk-container-id-3 div.sk-parallel-item::after {content: \"\";width: 100%;border-bottom: 1px solid gray;flex-grow: 1;}#sk-container-id-3 div.sk-label:hover label.sk-toggleable__label {background-color: #d4ebff;}#sk-container-id-3 div.sk-serial::before {content: \"\";position: absolute;border-left: 1px solid gray;box-sizing: border-box;top: 0;bottom: 0;left: 50%;z-index: 0;}#sk-container-id-3 div.sk-serial {display: flex;flex-direction: column;align-items: center;background-color: white;padding-right: 0.2em;padding-left: 0.2em;position: relative;}#sk-container-id-3 div.sk-item {position: relative;z-index: 1;}#sk-container-id-3 div.sk-parallel {display: flex;align-items: stretch;justify-content: center;background-color: white;position: relative;}#sk-container-id-3 div.sk-item::before, #sk-container-id-3 div.sk-parallel-item::before {content: \"\";position: absolute;border-left: 1px solid gray;box-sizing: border-box;top: 0;bottom: 0;left: 50%;z-index: -1;}#sk-container-id-3 div.sk-parallel-item {display: flex;flex-direction: column;z-index: 1;position: relative;background-color: white;}#sk-container-id-3 div.sk-parallel-item:first-child::after {align-self: flex-end;width: 50%;}#sk-container-id-3 div.sk-parallel-item:last-child::after {align-self: flex-start;width: 50%;}#sk-container-id-3 div.sk-parallel-item:only-child::after {width: 0;}#sk-container-id-3 div.sk-dashed-wrapped {border: 1px dashed gray;margin: 0 0.4em 0.5em 0.4em;box-sizing: border-box;padding-bottom: 0.4em;background-color: white;}#sk-container-id-3 div.sk-label label {font-family: monospace;font-weight: bold;display: inline-block;line-height: 1.2em;}#sk-container-id-3 div.sk-label-container {text-align: center;}#sk-container-id-3 div.sk-container {/* jupyter's `normalize.less` sets `[hidden] { display: none; }` but bootstrap.min.css set `[hidden] { display: none !important; }` so we also need the `!important` here to be able to override the default hidden behavior on the sphinx rendered scikit-learn.org. See: https://github.com/scikit-learn/scikit-learn/issues/21755 */display: inline-block !important;position: relative;}#sk-container-id-3 div.sk-text-repr-fallback {display: none;}</style><div id=\"sk-container-id-3\" class=\"sk-top-container\"><div class=\"sk-text-repr-fallback\"><pre>OneHotEncoder()</pre><b>In a Jupyter environment, please rerun this cell to show the HTML representation or trust the notebook. <br />On GitHub, the HTML representation is unable to render, please try loading this page with nbviewer.org.</b></div><div class=\"sk-container\" hidden><div class=\"sk-item\"><div class=\"sk-estimator sk-toggleable\"><input class=\"sk-toggleable__control sk-hidden--visually\" id=\"sk-estimator-id-3\" type=\"checkbox\" checked><label for=\"sk-estimator-id-3\" class=\"sk-toggleable__label sk-toggleable__label-arrow\">OneHotEncoder</label><div class=\"sk-toggleable__content\"><pre>OneHotEncoder()</pre></div></div></div></div></div>"
            ]
          },
          "metadata": {},
          "execution_count": 30
        }
      ]
    },
    {
      "cell_type": "code",
      "source": [
        "print(type(y_train))\n",
        "y_train = pd.DataFrame(y_train)\n",
        "y_train = y_train[y_train.applymap(lambda x: isinstance(x, (int, float)))]"
      ],
      "metadata": {
        "colab": {
          "base_uri": "https://localhost:8080/"
        },
        "id": "tvAFeuNRhtKu",
        "outputId": "34343b64-005b-4685-efab-3ab8add4fade"
      },
      "execution_count": null,
      "outputs": [
        {
          "output_type": "stream",
          "name": "stdout",
          "text": [
            "<class 'pandas.core.series.Series'>\n"
          ]
        }
      ]
    },
    {
      "cell_type": "code",
      "source": [
        "print(y_train.head())"
      ],
      "metadata": {
        "colab": {
          "base_uri": "https://localhost:8080/"
        },
        "id": "rmQP81U_Ch6S",
        "outputId": "9ba4b0f7-c448-4b9b-99df-b3b915050304"
      },
      "execution_count": null,
      "outputs": [
        {
          "output_type": "stream",
          "name": "stdout",
          "text": [
            "            Price\n",
            "33503   711953.25\n",
            "46985  1444585.50\n",
            "36971   402480.00\n",
            "50462   825091.50\n",
            "15247   274796.25\n"
          ]
        }
      ]
    },
    {
      "cell_type": "code",
      "source": [
        "y_train = y_train[y_train.applymap(lambda x: isinstance(x, (int, float)))]"
      ],
      "metadata": {
        "id": "MpSTgHcXhhVv"
      },
      "execution_count": null,
      "outputs": []
    },
    {
      "cell_type": "code",
      "source": [],
      "metadata": {
        "id": "WedWtjUkCn4U"
      },
      "execution_count": null,
      "outputs": []
    },
    {
      "cell_type": "code",
      "source": [
        "Test_Data=pd.read_csv('/content/Test_Data_Set.csv')"
      ],
      "metadata": {
        "id": "1FbLs_4u1xx6"
      },
      "execution_count": null,
      "outputs": []
    },
    {
      "cell_type": "code",
      "source": [
        "# Define preprocessing steps for different types of features\n",
        "categorical_features = x.select_dtypes(include=['object']).columns.tolist()\n",
        "numeric_features = x.select_dtypes(include=['int64', 'float64']).columns.tolist()\n",
        "\n",
        "#preprocession of data before training the model\n",
        "numeric_transformer = Pipeline(steps=[\n",
        "('imputer', SimpleImputer(strategy='median'))\n",
        "])\n",
        "\n",
        "categorical_transformer = Pipeline(steps=[\n",
        "('imputer', SimpleImputer(strategy='constant', fill_value='missing')),\n",
        "('onehot', OneHotEncoder(handle_unknown = 'ignore'))\n",
        "])\n",
        "preprocessor = ColumnTransformer(\n",
        "transformers=[\n",
        "('num', numeric_transformer, numeric_features),\n",
        "( 'cat', categorical_transformer, categorical_features)])\n",
        "\n",
        "\n",
        "# # Create a pipeline\n",
        "pipeline = Pipeline(steps=[('preprocessor', preprocessor),\n",
        "                           ('regressor', LinearRegression())])\n",
        "\n",
        "# # Fit the pipeline on the training data\n",
        "pipeline.fit(x_train, y_train)\n",
        "\n",
        "# # Predict on the test data\n",
        "y_pred = pipeline.predict(Test_Data)\n"
      ],
      "metadata": {
        "id": "77NEUgiSg5yE"
      },
      "execution_count": null,
      "outputs": []
    },
    {
      "cell_type": "code",
      "source": [
        "print(y_pred)"
      ],
      "metadata": {
        "id": "i95N6prWg7DE",
        "colab": {
          "base_uri": "https://localhost:8080/"
        },
        "outputId": "70cb66ad-27d1-40d3-b8e2-fb1a9b5d9ea8"
      },
      "execution_count": null,
      "outputs": [
        {
          "output_type": "stream",
          "name": "stdout",
          "text": [
            "[[ 547890.17018469]\n",
            " [1207190.32572101]\n",
            " [1538761.46867387]\n",
            " ...\n",
            " [ 392625.05473347]\n",
            " [1214596.10105608]\n",
            " [ 953505.78104565]]\n"
          ]
        }
      ]
    },
    {
      "cell_type": "code",
      "source": [
        "test_ids = Test_Data['Id'].values\n",
        "predicted_prices = y_pred"
      ],
      "metadata": {
        "id": "FIjzgLiF1_KH"
      },
      "execution_count": null,
      "outputs": []
    },
    {
      "cell_type": "code",
      "source": [
        "predicted_prices.shape\n",
        "test_ids.shape"
      ],
      "metadata": {
        "colab": {
          "base_uri": "https://localhost:8080/"
        },
        "id": "71O6zYLZ2BnP",
        "outputId": "7d74d6c1-28cc-4b59-87c1-f529542d3298"
      },
      "execution_count": null,
      "outputs": [
        {
          "output_type": "execute_result",
          "data": {
            "text/plain": [
              "(5615,)"
            ]
          },
          "metadata": {},
          "execution_count": 42
        }
      ]
    },
    {
      "cell_type": "code",
      "source": [
        "# Flatten the predicted_prices array\n",
        "predicted_prices = predicted_prices.flatten()\n",
        "\n",
        "# Print the formatted arrays\n",
        "print(test_ids)\n",
        "print(predicted_prices)"
      ],
      "metadata": {
        "colab": {
          "base_uri": "https://localhost:8080/"
        },
        "id": "tBAjqD4F2Lct",
        "outputId": "e565f351-1312-4008-8cb0-db6349e2e5a4"
      },
      "execution_count": null,
      "outputs": [
        {
          "output_type": "stream",
          "name": "stdout",
          "text": [
            "[11001 11002 11003 ... 16613 16614 16615]\n",
            "[ 547890.17018469 1207190.32572101 1538761.46867387 ...  392625.05473347\n",
            " 1214596.10105608  953505.78104565]\n"
          ]
        }
      ]
    },
    {
      "cell_type": "code",
      "source": [
        "# Create a DataFrame with IDs and predicted prices\n",
        "FinalResult_df = pd.DataFrame({'Id': test_ids, 'Price': predicted_prices})\n",
        "\n",
        "# Save the DataFrame to a CSV file\n",
        "FinalResult_df.to_csv('Final Result.csv', index=False)"
      ],
      "metadata": {
        "id": "Sj4M8wbQ2Rjg"
      },
      "execution_count": null,
      "outputs": []
    }
  ]
}